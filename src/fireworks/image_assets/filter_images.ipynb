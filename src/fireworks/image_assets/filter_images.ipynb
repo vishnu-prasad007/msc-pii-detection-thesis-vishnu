{
 "cells": [
  {
   "cell_type": "code",
   "execution_count": 2,
   "metadata": {},
   "outputs": [],
   "source": [
    "import os\n",
    "import requests"
   ]
  },
  {
   "cell_type": "code",
   "execution_count": 3,
   "metadata": {},
   "outputs": [
    {
     "name": "stderr",
     "output_type": "stream",
     "text": [
      "Processing documents:   0%|          | 3/5229 [00:13<8:04:55,  5.57s/it]"
     ]
    },
    {
     "name": "stdout",
     "output_type": "stream",
     "text": [
      "Error in OCR orientation detection: (1, 'Estimating resolution as 284 Too few characters. Skipping this page Warning. Invalid resolution 0 dpi. Using 70 instead. Too few characters. Skipping this page Error during processing.')\n"
     ]
    },
    {
     "name": "stderr",
     "output_type": "stream",
     "text": [
      "Processing documents:   1%|          | 47/5229 [00:47<51:37,  1.67it/s]  "
     ]
    },
    {
     "name": "stdout",
     "output_type": "stream",
     "text": [
      "Error in OCR orientation detection: (1, 'Estimating resolution as 384 Too few characters. Skipping this page Warning. Invalid resolution 0 dpi. Using 70 instead. Too few characters. Skipping this page Error during processing.')\n"
     ]
    },
    {
     "name": "stderr",
     "output_type": "stream",
     "text": [
      "Processing documents:   5%|▍         | 243/5229 [03:28<1:49:21,  1.32s/it]"
     ]
    },
    {
     "name": "stdout",
     "output_type": "stream",
     "text": [
      "Error in OCR orientation detection: (1, 'Estimating resolution as 514 Warning. Invalid resolution 0 dpi. Using 70 instead. Too few characters. Skipping this page Error during processing.')\n"
     ]
    },
    {
     "name": "stderr",
     "output_type": "stream",
     "text": [
      "Processing documents:   5%|▍         | 248/5229 [03:30<1:22:35,  1.01it/s]"
     ]
    },
    {
     "name": "stdout",
     "output_type": "stream",
     "text": [
      "Error in OCR orientation detection: (1, 'Estimating resolution as 185 Too few characters. Skipping this page Warning. Invalid resolution 0 dpi. Using 70 instead. Too few characters. Skipping this page Error during processing.')\n",
      "Error in OCR orientation detection: (1, 'Estimating resolution as 646 Too few characters. Skipping this page Warning. Invalid resolution 0 dpi. Using 70 instead. Too few characters. Skipping this page Error during processing.')\n"
     ]
    },
    {
     "name": "stderr",
     "output_type": "stream",
     "text": [
      "Processing documents:   5%|▍         | 260/5229 [03:46<1:13:25,  1.13it/s]"
     ]
    },
    {
     "name": "stdout",
     "output_type": "stream",
     "text": [
      "Error in OCR orientation detection: (1, 'Estimating resolution as 666 Too few characters. Skipping this page Warning. Invalid resolution 0 dpi. Using 70 instead. Too few characters. Skipping this page Error during processing.')\n"
     ]
    },
    {
     "name": "stderr",
     "output_type": "stream",
     "text": [
      "Processing documents:   6%|▌         | 308/5229 [04:14<36:46,  2.23it/s]  "
     ]
    },
    {
     "name": "stdout",
     "output_type": "stream",
     "text": [
      "Error in OCR orientation detection: (1, 'Estimating resolution as 384 Too few characters. Skipping this page Warning. Invalid resolution 0 dpi. Using 70 instead. Too few characters. Skipping this page Error during processing.')\n"
     ]
    },
    {
     "name": "stderr",
     "output_type": "stream",
     "text": [
      "Processing documents:   6%|▌         | 316/5229 [04:18<39:43,  2.06it/s]"
     ]
    },
    {
     "name": "stdout",
     "output_type": "stream",
     "text": [
      "Error in OCR orientation detection: (1, 'Estimating resolution as 1538 Too few characters. Skipping this page Warning. Invalid resolution 0 dpi. Using 70 instead. Too few characters. Skipping this page Error during processing.')\n"
     ]
    },
    {
     "name": "stderr",
     "output_type": "stream",
     "text": [
      "Processing documents:   8%|▊         | 441/5229 [11:58<2:17:40,  1.73s/it] "
     ]
    },
    {
     "name": "stdout",
     "output_type": "stream",
     "text": [
      "Error in OCR orientation detection: (1, 'Estimating resolution as 514 Too few characters. Skipping this page Warning. Invalid resolution 0 dpi. Using 70 instead. Too few characters. Skipping this page Error during processing.')\n",
      "Error in OCR orientation detection: (1, 'Estimating resolution as 516 Too few characters. Skipping this page Warning. Invalid resolution 0 dpi. Using 70 instead. Too few characters. Skipping this page Error during processing.')\n",
      "Error in OCR orientation detection: (1, 'Estimating resolution as 409 Too few characters. Skipping this page Warning. Invalid resolution 0 dpi. Using 70 instead. Too few characters. Skipping this page Error during processing.')\n",
      "Error in OCR orientation detection: (1, 'Estimating resolution as 528 Too few characters. Skipping this page Warning. Invalid resolution 0 dpi. Using 70 instead. Too few characters. Skipping this page Error during processing.')\n",
      "Error in OCR orientation detection: (1, 'Estimating resolution as 414 Too few characters. Skipping this page Warning. Invalid resolution 0 dpi. Using 70 instead. Too few characters. Skipping this page Error during processing.')\n",
      "Error in OCR orientation detection: (1, 'Estimating resolution as 502 Too few characters. Skipping this page Warning. Invalid resolution 0 dpi. Using 70 instead. Too few characters. Skipping this page Error during processing.')\n",
      "Error in OCR orientation detection: (1, 'Estimating resolution as 506 Too few characters. Skipping this page Warning. Invalid resolution 0 dpi. Using 70 instead. Too few characters. Skipping this page Error during processing.')\n"
     ]
    },
    {
     "name": "stderr",
     "output_type": "stream",
     "text": [
      "Processing documents:  11%|█         | 557/5229 [23:43<1:51:20,  1.43s/it] "
     ]
    },
    {
     "name": "stdout",
     "output_type": "stream",
     "text": [
      "Error in OCR orientation detection: (1, 'Estimating resolution as 296 Too few characters. Skipping this page Warning. Invalid resolution 0 dpi. Using 70 instead. Too few characters. Skipping this page Error during processing.')\n",
      "Error in OCR orientation detection: (1, 'Estimating resolution as 328 Too few characters. Skipping this page Warning. Invalid resolution 0 dpi. Using 70 instead. Too few characters. Skipping this page Error during processing.')\n",
      "Error in OCR orientation detection: (1, 'Estimating resolution as 313 Too few characters. Skipping this page Warning. Invalid resolution 0 dpi. Using 70 instead. Too few characters. Skipping this page Error during processing.')\n",
      "Error in OCR orientation detection: (1, 'Estimating resolution as 600 Too few characters. Skipping this page Warning. Invalid resolution 0 dpi. Using 70 instead. Too few characters. Skipping this page Error during processing.')\n",
      "Error in OCR orientation detection: (1, 'Estimating resolution as 316 Too few characters. Skipping this page Warning. Invalid resolution 0 dpi. Using 70 instead. Too few characters. Skipping this page Error during processing.')\n",
      "Error in OCR orientation detection: (1, 'Estimating resolution as 307 Too few characters. Skipping this page Warning. Invalid resolution 0 dpi. Using 70 instead. Too few characters. Skipping this page Error during processing.')\n"
     ]
    },
    {
     "name": "stderr",
     "output_type": "stream",
     "text": [
      "Processing documents:  11%|█▏        | 596/5229 [26:59<4:20:41,  3.38s/it] "
     ]
    },
    {
     "name": "stdout",
     "output_type": "stream",
     "text": [
      "Error in OCR orientation detection: (1, 'Estimating resolution as 115 Warning. Invalid resolution 0 dpi. Using 70 instead. Too few characters. Skipping this page Error during processing.')\n"
     ]
    },
    {
     "name": "stderr",
     "output_type": "stream",
     "text": [
      "Processing documents:  12%|█▏        | 609/5229 [27:03<1:21:37,  1.06s/it]"
     ]
    },
    {
     "name": "stdout",
     "output_type": "stream",
     "text": [
      "Error in OCR orientation detection: (1, 'Estimating resolution as 190 Warning. Invalid resolution 0 dpi. Using 70 instead. Too few characters. Skipping this page Error during processing.')\n"
     ]
    },
    {
     "name": "stderr",
     "output_type": "stream",
     "text": [
      "Processing documents:  12%|█▏        | 625/5229 [27:14<56:51,  1.35it/s]  "
     ]
    },
    {
     "name": "stdout",
     "output_type": "stream",
     "text": [
      "Error in OCR orientation detection: (1, 'Estimating resolution as 680 Too few characters. Skipping this page Warning. Invalid resolution 0 dpi. Using 70 instead. Too few characters. Skipping this page Error during processing.')\n"
     ]
    },
    {
     "name": "stderr",
     "output_type": "stream",
     "text": [
      "Processing documents:  14%|█▎        | 710/5229 [29:04<46:24,  1.62it/s]   "
     ]
    },
    {
     "name": "stdout",
     "output_type": "stream",
     "text": [
      "Error in OCR orientation detection: (1, 'Estimating resolution as 394 Too few characters. Skipping this page Warning. Invalid resolution 0 dpi. Using 70 instead. Too few characters. Skipping this page Error during processing.')\n",
      "Error in OCR orientation detection: (1, 'Estimating resolution as 556 Warning. Invalid resolution 0 dpi. Using 70 instead. Too few characters. Skipping this page Error during processing.')\n",
      "Error in OCR orientation detection: (1, 'Estimating resolution as 628 Too few characters. Skipping this page Warning. Invalid resolution 0 dpi. Using 70 instead. Too few characters. Skipping this page Error during processing.')\n"
     ]
    },
    {
     "name": "stderr",
     "output_type": "stream",
     "text": [
      "Processing documents:  14%|█▍        | 756/5229 [30:50<58:10,  1.28it/s]   "
     ]
    },
    {
     "name": "stdout",
     "output_type": "stream",
     "text": [
      "Error in OCR orientation detection: (1, 'Estimating resolution as 421 Too few characters. Skipping this page Warning. Invalid resolution 0 dpi. Using 70 instead. Too few characters. Skipping this page Error during processing.')\n"
     ]
    },
    {
     "name": "stderr",
     "output_type": "stream",
     "text": [
      "Processing documents:  15%|█▌        | 800/5229 [31:18<32:02,  2.30it/s]  "
     ]
    },
    {
     "name": "stdout",
     "output_type": "stream",
     "text": [
      "Error in OCR orientation detection: (1, 'Estimating resolution as 447 Warning. Invalid resolution 0 dpi. Using 70 instead. Too few characters. Skipping this page Error during processing.')\n",
      "Error in OCR orientation detection: (1, 'Estimating resolution as 277 Too few characters. Skipping this page Warning. Invalid resolution 0 dpi. Using 70 instead. Too few characters. Skipping this page Error during processing.')\n",
      "Error in OCR orientation detection: (1, 'Estimating resolution as 455 Too few characters. Skipping this page Warning. Invalid resolution 0 dpi. Using 70 instead. Too few characters. Skipping this page Error during processing.')\n"
     ]
    },
    {
     "name": "stderr",
     "output_type": "stream",
     "text": [
      "Processing documents:  17%|█▋        | 908/5229 [37:08<15:36:20, 13.00s/it]"
     ]
    },
    {
     "name": "stdout",
     "output_type": "stream",
     "text": [
      "Error in OCR orientation detection: (1, 'Estimating resolution as 588 Warning. Invalid resolution 0 dpi. Using 70 instead. Too few characters. Skipping this page Error during processing.')\n",
      "Error in OCR orientation detection: (1, 'Estimating resolution as 1139 Too few characters. Skipping this page Warning. Invalid resolution 0 dpi. Using 70 instead. Too few characters. Skipping this page Error during processing.')\n"
     ]
    },
    {
     "name": "stderr",
     "output_type": "stream",
     "text": [
      "Processing documents:  18%|█▊        | 918/5229 [37:12<6:07:22,  5.11s/it] "
     ]
    },
    {
     "name": "stdout",
     "output_type": "stream",
     "text": [
      "Error in OCR orientation detection: (1, 'Estimating resolution as 2304 Too few characters. Skipping this page Warning. Invalid resolution 0 dpi. Using 70 instead. Too few characters. Skipping this page Error during processing.')\n",
      "Error in OCR orientation detection: (1, 'Estimating resolution as 2269 Too few characters. Skipping this page Warning. Invalid resolution 0 dpi. Using 70 instead. Too few characters. Skipping this page Error during processing.')\n",
      "Error in OCR orientation detection: (1, 'Estimating resolution as 2285 Too few characters. Skipping this page Warning. Invalid resolution 0 dpi. Using 70 instead. Too few characters. Skipping this page Error during processing.')\n",
      "Error in OCR orientation detection: (1, 'Estimating resolution as 2301 Too few characters. Skipping this page Warning. Invalid resolution 0 dpi. Using 70 instead. Too few characters. Skipping this page Error during processing.')\n",
      "Error in OCR orientation detection: (1, 'Estimating resolution as 2276 Too few characters. Skipping this page Warning. Invalid resolution 0 dpi. Using 70 instead. Too few characters. Skipping this page Error during processing.')\n",
      "Error in OCR orientation detection: (1, 'Estimating resolution as 2277 Too few characters. Skipping this page Warning. Invalid resolution 0 dpi. Using 70 instead. Too few characters. Skipping this page Error during processing.')\n"
     ]
    },
    {
     "name": "stderr",
     "output_type": "stream",
     "text": [
      "Processing documents:  18%|█▊        | 967/5229 [38:50<2:48:04,  2.37s/it]"
     ]
    },
    {
     "name": "stdout",
     "output_type": "stream",
     "text": [
      "Error in OCR orientation detection: (1, 'Estimating resolution as 312 Too few characters. Skipping this page Warning. Invalid resolution 0 dpi. Using 70 instead. Too few characters. Skipping this page Error during processing.')\n"
     ]
    },
    {
     "name": "stderr",
     "output_type": "stream",
     "text": [
      "Processing documents:  20%|██        | 1051/5229 [41:18<1:06:55,  1.04it/s] "
     ]
    },
    {
     "name": "stdout",
     "output_type": "stream",
     "text": [
      "Error in OCR orientation detection: (1, 'Estimating resolution as 228 Warning. Invalid resolution 0 dpi. Using 70 instead. Too few characters. Skipping this page Error during processing.')\n"
     ]
    },
    {
     "name": "stderr",
     "output_type": "stream",
     "text": [
      "Processing documents:  21%|██        | 1080/5229 [42:40<1:08:28,  1.01it/s]"
     ]
    },
    {
     "name": "stdout",
     "output_type": "stream",
     "text": [
      "Error in OCR orientation detection: (1, 'Estimating resolution as 369 Too few characters. Skipping this page Warning. Invalid resolution 0 dpi. Using 70 instead. Too few characters. Skipping this page Error during processing.')\n",
      "Error in OCR orientation detection: (1, 'Estimating resolution as 597 Too few characters. Skipping this page Warning. Invalid resolution 0 dpi. Using 70 instead. Too few characters. Skipping this page Error during processing.')\n",
      "Error in OCR orientation detection: (1, 'Estimating resolution as 374 Too few characters. Skipping this page Warning. Invalid resolution 0 dpi. Using 70 instead. Too few characters. Skipping this page Error during processing.')\n"
     ]
    },
    {
     "name": "stderr",
     "output_type": "stream",
     "text": [
      "Processing documents:  21%|██        | 1105/5229 [44:53<9:43:17,  8.49s/it]"
     ]
    },
    {
     "name": "stdout",
     "output_type": "stream",
     "text": [
      "Error in OCR orientation detection: (1, 'Estimating resolution as 448 Too few characters. Skipping this page Warning. Invalid resolution 0 dpi. Using 70 instead. Too few characters. Skipping this page Error during processing.')\n",
      "Error in OCR orientation detection: (1, 'Estimating resolution as 397 Warning. Invalid resolution 0 dpi. Using 70 instead. Too few characters. Skipping this page Error during processing.')\n",
      "Error in OCR orientation detection: (1, 'Too few characters. Skipping this page Warning. Invalid resolution 0 dpi. Using 70 instead. Too few characters. Skipping this page Error during processing.')\n",
      "Error in OCR orientation detection: (1, 'Estimating resolution as 286 Too few characters. Skipping this page Warning. Invalid resolution 0 dpi. Using 70 instead. Too few characters. Skipping this page Error during processing.')\n",
      "Error in OCR orientation detection: (1, 'Estimating resolution as 434 Too few characters. Skipping this page Warning. Invalid resolution 0 dpi. Using 70 instead. Too few characters. Skipping this page Error during processing.')\n",
      "Error in OCR orientation detection: (1, 'Estimating resolution as 272 Too few characters. Skipping this page Warning. Invalid resolution 0 dpi. Using 70 instead. Too few characters. Skipping this page Error during processing.')\n"
     ]
    },
    {
     "name": "stderr",
     "output_type": "stream",
     "text": [
      "Processing documents:  21%|██▏       | 1123/5229 [45:29<1:54:32,  1.67s/it]"
     ]
    },
    {
     "name": "stdout",
     "output_type": "stream",
     "text": [
      "Error in OCR orientation detection: (1, 'Estimating resolution as 1141 Too few characters. Skipping this page Warning. Invalid resolution 0 dpi. Using 70 instead. Too few characters. Skipping this page Error during processing.')\n"
     ]
    },
    {
     "name": "stderr",
     "output_type": "stream",
     "text": [
      "Processing documents:  21%|██▏       | 1124/5229 [46:02<5:46:13,  5.06s/it]"
     ]
    },
    {
     "name": "stdout",
     "output_type": "stream",
     "text": [
      "Error in OCR orientation detection: (1, 'Estimating resolution as 279 Too few characters. Skipping this page Warning. Invalid resolution 0 dpi. Using 70 instead. Too few characters. Skipping this page Error during processing.')\n",
      "Error in OCR orientation detection: (1, 'Estimating resolution as 278 Too few characters. Skipping this page Warning. Invalid resolution 0 dpi. Using 70 instead. Too few characters. Skipping this page Error during processing.')\n",
      "Error in OCR orientation detection: (1, 'Estimating resolution as 278 Too few characters. Skipping this page Warning. Invalid resolution 0 dpi. Using 70 instead. Too few characters. Skipping this page Error during processing.')\n",
      "Error in OCR orientation detection: (1, 'Estimating resolution as 284 Too few characters. Skipping this page Warning. Invalid resolution 0 dpi. Using 70 instead. Too few characters. Skipping this page Error during processing.')\n",
      "Error in OCR orientation detection: (1, 'Estimating resolution as 279 Too few characters. Skipping this page Warning. Invalid resolution 0 dpi. Using 70 instead. Too few characters. Skipping this page Error during processing.')\n",
      "Error in OCR orientation detection: (1, 'Estimating resolution as 280 Too few characters. Skipping this page Warning. Invalid resolution 0 dpi. Using 70 instead. Too few characters. Skipping this page Error during processing.')\n"
     ]
    },
    {
     "name": "stderr",
     "output_type": "stream",
     "text": [
      "Processing documents:  22%|██▏       | 1129/5229 [46:59<7:31:16,  6.60s/it] "
     ]
    },
    {
     "name": "stdout",
     "output_type": "stream",
     "text": [
      "Error in OCR orientation detection: (1, 'Estimating resolution as 178 Warning. Invalid resolution 0 dpi. Using 70 instead. Too few characters. Skipping this page Error during processing.')\n"
     ]
    },
    {
     "name": "stderr",
     "output_type": "stream",
     "text": [
      "Processing documents:  23%|██▎       | 1198/5229 [47:48<48:39,  1.38it/s]  "
     ]
    },
    {
     "name": "stdout",
     "output_type": "stream",
     "text": [
      "Error in OCR orientation detection: (1, 'Estimating resolution as 646 Too few characters. Skipping this page Warning. Invalid resolution 0 dpi. Using 70 instead. Too few characters. Skipping this page Error during processing.')\n",
      "Error in OCR orientation detection: (1, 'Estimating resolution as 703 Too few characters. Skipping this page Warning. Invalid resolution 0 dpi. Using 70 instead. Too few characters. Skipping this page Error during processing.')\n",
      "Error in OCR orientation detection: (1, 'Estimating resolution as 615 Warning. Invalid resolution 0 dpi. Using 70 instead. Too few characters. Skipping this page Error during processing.')\n",
      "Error in OCR orientation detection: (1, 'Estimating resolution as 601 Warning. Invalid resolution 0 dpi. Using 70 instead. Too few characters. Skipping this page Error during processing.')\n",
      "Error in OCR orientation detection: (1, 'Estimating resolution as 644 Warning. Invalid resolution 0 dpi. Using 70 instead. Too few characters. Skipping this page Error during processing.')\n"
     ]
    },
    {
     "name": "stderr",
     "output_type": "stream",
     "text": [
      "Processing documents:  26%|██▌       | 1350/5229 [50:26<45:16,  1.43it/s]  "
     ]
    },
    {
     "name": "stdout",
     "output_type": "stream",
     "text": [
      "Error in OCR orientation detection: (1, 'Estimating resolution as 108 Warning. Invalid resolution 0 dpi. Using 70 instead. Too few characters. Skipping this page Error during processing.')\n"
     ]
    },
    {
     "name": "stderr",
     "output_type": "stream",
     "text": [
      "Processing documents:  26%|██▌       | 1371/5229 [50:38<38:26,  1.67it/s]  "
     ]
    },
    {
     "name": "stdout",
     "output_type": "stream",
     "text": [
      "Error in OCR orientation detection: (1, 'Estimating resolution as 494 Too few characters. Skipping this page Warning. Invalid resolution 0 dpi. Using 70 instead. Too few characters. Skipping this page Error during processing.')\n"
     ]
    },
    {
     "name": "stderr",
     "output_type": "stream",
     "text": [
      "Processing documents:  27%|██▋       | 1430/5229 [51:24<14:05,  4.49it/s]  "
     ]
    },
    {
     "name": "stdout",
     "output_type": "stream",
     "text": [
      "Error in OCR orientation detection: (1, 'Estimating resolution as 154 Warning. Invalid resolution 0 dpi. Using 70 instead. Too few characters. Skipping this page Error during processing.')\n"
     ]
    },
    {
     "name": "stderr",
     "output_type": "stream",
     "text": [
      "Processing documents:  28%|██▊       | 1450/5229 [51:32<19:46,  3.19it/s]"
     ]
    },
    {
     "name": "stdout",
     "output_type": "stream",
     "text": [
      "Error in OCR orientation detection: (1, 'Estimating resolution as 248 Too few characters. Skipping this page Warning. Invalid resolution 0 dpi. Using 70 instead. Too few characters. Skipping this page Error during processing.')\n"
     ]
    },
    {
     "name": "stderr",
     "output_type": "stream",
     "text": [
      "Processing documents:  30%|██▉       | 1548/5229 [54:49<2:14:17,  2.19s/it] "
     ]
    },
    {
     "name": "stdout",
     "output_type": "stream",
     "text": [
      "Error in OCR orientation detection: (1, 'Estimating resolution as 329 Too few characters. Skipping this page Warning. Invalid resolution 0 dpi. Using 70 instead. Too few characters. Skipping this page Error during processing.')\n"
     ]
    },
    {
     "name": "stderr",
     "output_type": "stream",
     "text": [
      "Processing documents:  31%|███       | 1612/5229 [55:13<21:49,  2.76it/s]  "
     ]
    },
    {
     "name": "stdout",
     "output_type": "stream",
     "text": [
      "Error in OCR orientation detection: (1, 'Estimating resolution as 290 Warning. Invalid resolution 0 dpi. Using 70 instead. Too few characters. Skipping this page Error during processing.')\n"
     ]
    },
    {
     "name": "stderr",
     "output_type": "stream",
     "text": [
      "Processing documents:  32%|███▏      | 1674/5229 [59:53<2:48:16,  2.84s/it] "
     ]
    },
    {
     "name": "stdout",
     "output_type": "stream",
     "text": [
      "Error in OCR orientation detection: (1, 'Estimating resolution as 383 Too few characters. Skipping this page Warning. Invalid resolution 0 dpi. Using 70 instead. Too few characters. Skipping this page Error during processing.')\n"
     ]
    },
    {
     "name": "stderr",
     "output_type": "stream",
     "text": [
      "Processing documents:  33%|███▎      | 1702/5229 [1:00:26<58:45,  1.00it/s]  "
     ]
    },
    {
     "name": "stdout",
     "output_type": "stream",
     "text": [
      "Error in OCR orientation detection: (1, 'Estimating resolution as 555 Warning. Invalid resolution 0 dpi. Using 70 instead. Too few characters. Skipping this page Error during processing.')\n"
     ]
    },
    {
     "name": "stderr",
     "output_type": "stream",
     "text": [
      "Processing documents:  34%|███▍      | 1801/5229 [1:01:42<41:27,  1.38it/s]  "
     ]
    },
    {
     "name": "stdout",
     "output_type": "stream",
     "text": [
      "Error in OCR orientation detection: (1, 'Estimating resolution as 433 Warning. Invalid resolution 0 dpi. Using 70 instead. Too few characters. Skipping this page Error during processing.')\n",
      "Error in OCR orientation detection: (1, 'Estimating resolution as 441 Warning. Invalid resolution 0 dpi. Using 70 instead. Too few characters. Skipping this page Error during processing.')\n",
      "Error in OCR orientation detection: (1, 'Estimating resolution as 453 Warning. Invalid resolution 0 dpi. Using 70 instead. Too few characters. Skipping this page Error during processing.')\n"
     ]
    },
    {
     "name": "stderr",
     "output_type": "stream",
     "text": [
      "Processing documents:  35%|███▍      | 1811/5229 [1:01:51<45:42,  1.25it/s]"
     ]
    },
    {
     "name": "stdout",
     "output_type": "stream",
     "text": [
      "Error in OCR orientation detection: (1, 'Estimating resolution as 309 Warning. Invalid resolution 0 dpi. Using 70 instead. Too few characters. Skipping this page Error during processing.')\n"
     ]
    },
    {
     "name": "stderr",
     "output_type": "stream",
     "text": [
      "Processing documents:  35%|███▍      | 1821/5229 [1:02:03<1:22:55,  1.46s/it]"
     ]
    },
    {
     "name": "stdout",
     "output_type": "stream",
     "text": [
      "Error in OCR orientation detection: (1, 'Estimating resolution as 533 Too few characters. Skipping this page Warning. Invalid resolution 0 dpi. Using 70 instead. Too few characters. Skipping this page Error during processing.')\n"
     ]
    },
    {
     "name": "stderr",
     "output_type": "stream",
     "text": [
      "Processing documents:  36%|███▌      | 1861/5229 [1:07:05<15:18:01, 16.35s/it]"
     ]
    },
    {
     "name": "stdout",
     "output_type": "stream",
     "text": [
      "Error in OCR orientation detection: (1, 'Estimating resolution as 332 Warning. Invalid resolution 0 dpi. Using 70 instead. Too few characters. Skipping this page Error during processing.')\n"
     ]
    },
    {
     "name": "stderr",
     "output_type": "stream",
     "text": [
      "Processing documents:  38%|███▊      | 2000/5229 [1:12:23<50:05,  1.07it/s]   "
     ]
    },
    {
     "name": "stdout",
     "output_type": "stream",
     "text": [
      "Error in OCR orientation detection: (1, 'Too few characters. Skipping this page Warning. Invalid resolution 0 dpi. Using 70 instead. Too few characters. Skipping this page Error during processing.')\n",
      "Error in OCR orientation detection: (1, 'Too few characters. Skipping this page Warning. Invalid resolution 0 dpi. Using 70 instead. Too few characters. Skipping this page Error during processing.')\n",
      "Error in OCR orientation detection: (1, 'Too few characters. Skipping this page Warning. Invalid resolution 0 dpi. Using 70 instead. Too few characters. Skipping this page Error during processing.')\n"
     ]
    },
    {
     "name": "stderr",
     "output_type": "stream",
     "text": [
      "Processing documents:  38%|███▊      | 2012/5229 [1:12:48<1:25:37,  1.60s/it]"
     ]
    },
    {
     "name": "stdout",
     "output_type": "stream",
     "text": [
      "Error in OCR orientation detection: (1, 'Estimating resolution as 421 Too few characters. Skipping this page Warning. Invalid resolution 0 dpi. Using 70 instead. Too few characters. Skipping this page Error during processing.')\n",
      "Error in OCR orientation detection: (1, 'Estimating resolution as 297 Too few characters. Skipping this page Warning. Invalid resolution 0 dpi. Using 70 instead. Too few characters. Skipping this page Error during processing.')\n"
     ]
    },
    {
     "name": "stderr",
     "output_type": "stream",
     "text": [
      "Processing documents:  40%|███▉      | 2070/5229 [1:15:15<56:48,  1.08s/it]  "
     ]
    },
    {
     "name": "stdout",
     "output_type": "stream",
     "text": [
      "Error in OCR orientation detection: (1, 'Estimating resolution as 573 Too few characters. Skipping this page Warning. Invalid resolution 0 dpi. Using 70 instead. Too few characters. Skipping this page Error during processing.')\n",
      "Error in OCR orientation detection: (1, 'Estimating resolution as 578 Too few characters. Skipping this page Warning. Invalid resolution 0 dpi. Using 70 instead. Too few characters. Skipping this page Error during processing.')\n"
     ]
    },
    {
     "name": "stderr",
     "output_type": "stream",
     "text": [
      "Processing documents:  40%|███▉      | 2073/5229 [1:15:35<2:36:57,  2.98s/it]"
     ]
    },
    {
     "name": "stdout",
     "output_type": "stream",
     "text": [
      "Error in OCR orientation detection: (1, 'Estimating resolution as 629 Too few characters. Skipping this page Warning. Invalid resolution 0 dpi. Using 70 instead. Too few characters. Skipping this page Error during processing.')\n"
     ]
    },
    {
     "name": "stderr",
     "output_type": "stream",
     "text": [
      "Processing documents:  43%|████▎     | 2234/5229 [1:18:35<57:36,  1.15s/it]  "
     ]
    },
    {
     "name": "stdout",
     "output_type": "stream",
     "text": [
      "Error in OCR orientation detection: (1, 'Estimating resolution as 612 Warning. Invalid resolution 0 dpi. Using 70 instead. Too few characters. Skipping this page Error during processing.')\n",
      "Error in OCR orientation detection: (1, 'Estimating resolution as 471 Too few characters. Skipping this page Warning. Invalid resolution 0 dpi. Using 70 instead. Too few characters. Skipping this page Error during processing.')\n"
     ]
    },
    {
     "name": "stderr",
     "output_type": "stream",
     "text": [
      "Processing documents:  43%|████▎     | 2258/5229 [1:20:48<1:40:50,  2.04s/it]"
     ]
    },
    {
     "name": "stdout",
     "output_type": "stream",
     "text": [
      "Error in OCR orientation detection: (1, 'Estimating resolution as 624 Warning. Invalid resolution 0 dpi. Using 70 instead. Too few characters. Skipping this page Error during processing.')\n",
      "Error in OCR orientation detection: (1, 'Estimating resolution as 1186 Warning. Invalid resolution 0 dpi. Using 70 instead. Too few characters. Skipping this page Error during processing.')\n",
      "Error in OCR orientation detection: (1, 'Estimating resolution as 721 Warning. Invalid resolution 0 dpi. Using 70 instead. Too few characters. Skipping this page Error during processing.')\n",
      "Error in OCR orientation detection: (1, 'Estimating resolution as 649 Warning. Invalid resolution 0 dpi. Using 70 instead. Too few characters. Skipping this page Error during processing.')\n",
      "Error in OCR orientation detection: (1, 'Estimating resolution as 576 Too few characters. Skipping this page Warning. Invalid resolution 0 dpi. Using 70 instead. Too few characters. Skipping this page Error during processing.')\n",
      "Error in OCR orientation detection: (1, 'Estimating resolution as 653 Too few characters. Skipping this page Warning. Invalid resolution 0 dpi. Using 70 instead. Too few characters. Skipping this page Error during processing.')\n"
     ]
    },
    {
     "name": "stderr",
     "output_type": "stream",
     "text": [
      "Processing documents:  44%|████▎     | 2276/5229 [1:31:06<15:28:13, 18.86s/it]"
     ]
    },
    {
     "name": "stdout",
     "output_type": "stream",
     "text": [
      "Error in OCR orientation detection: (1, 'Estimating resolution as 903 Too few characters. Skipping this page Warning. Invalid resolution 0 dpi. Using 70 instead. Too few characters. Skipping this page Error during processing.')\n"
     ]
    },
    {
     "name": "stderr",
     "output_type": "stream",
     "text": [
      "Processing documents:  44%|████▍     | 2288/5229 [1:31:07<6:23:03,  7.81s/it] "
     ]
    },
    {
     "name": "stdout",
     "output_type": "stream",
     "text": [
      "Error in OCR orientation detection: (1, 'Estimating resolution as 299 Warning. Invalid resolution 0 dpi. Using 70 instead. Too few characters. Skipping this page Error during processing.')\n"
     ]
    },
    {
     "name": "stderr",
     "output_type": "stream",
     "text": [
      "Processing documents:  44%|████▍     | 2317/5229 [1:31:26<1:21:34,  1.68s/it]"
     ]
    },
    {
     "name": "stdout",
     "output_type": "stream",
     "text": [
      "Error in OCR orientation detection: (1, 'Estimating resolution as 223 Warning. Invalid resolution 0 dpi. Using 70 instead. Too few characters. Skipping this page Error during processing.')\n",
      "Error in OCR orientation detection: (1, 'Estimating resolution as 304 Warning. Invalid resolution 0 dpi. Using 70 instead. Too few characters. Skipping this page Error during processing.')\n"
     ]
    },
    {
     "name": "stderr",
     "output_type": "stream",
     "text": [
      "Processing documents:  45%|████▍     | 2346/5229 [1:32:00<38:20,  1.25it/s]  "
     ]
    },
    {
     "name": "stdout",
     "output_type": "stream",
     "text": [
      "Error in OCR orientation detection: (1, 'Estimating resolution as 724 Too few characters. Skipping this page Warning. Invalid resolution 0 dpi. Using 70 instead. Too few characters. Skipping this page Error during processing.')\n",
      "Error in OCR orientation detection: (1, 'Estimating resolution as 413 Too few characters. Skipping this page Warning. Invalid resolution 0 dpi. Using 70 instead. Too few characters. Skipping this page Error during processing.')\n",
      "Error in OCR orientation detection: (1, 'Estimating resolution as 502 Too few characters. Skipping this page Warning. Invalid resolution 0 dpi. Using 70 instead. Too few characters. Skipping this page Error during processing.')\n",
      "Error in OCR orientation detection: (1, 'Estimating resolution as 388 Too few characters. Skipping this page Warning. Invalid resolution 0 dpi. Using 70 instead. Too few characters. Skipping this page Error during processing.')\n",
      "Error in OCR orientation detection: (1, 'Estimating resolution as 759 Too few characters. Skipping this page Warning. Invalid resolution 0 dpi. Using 70 instead. Too few characters. Skipping this page Error during processing.')\n",
      "Error in OCR orientation detection: (1, 'Estimating resolution as 603 Too few characters. Skipping this page Warning. Invalid resolution 0 dpi. Using 70 instead. Too few characters. Skipping this page Error during processing.')\n",
      "Error in OCR orientation detection: (1, 'Estimating resolution as 510 Too few characters. Skipping this page Warning. Invalid resolution 0 dpi. Using 70 instead. Too few characters. Skipping this page Error during processing.')\n",
      "Error in OCR orientation detection: (1, 'Estimating resolution as 375 Too few characters. Skipping this page Warning. Invalid resolution 0 dpi. Using 70 instead. Too few characters. Skipping this page Error during processing.')\n",
      "Error in OCR orientation detection: (1, 'Estimating resolution as 409 Too few characters. Skipping this page Warning. Invalid resolution 0 dpi. Using 70 instead. Too few characters. Skipping this page Error during processing.')\n",
      "Error in OCR orientation detection: (1, 'Estimating resolution as 416 Too few characters. Skipping this page Warning. Invalid resolution 0 dpi. Using 70 instead. Too few characters. Skipping this page Error during processing.')\n",
      "Error in OCR orientation detection: (1, 'Estimating resolution as 380 Too few characters. Skipping this page Warning. Invalid resolution 0 dpi. Using 70 instead. Too few characters. Skipping this page Error during processing.')\n",
      "Error in OCR orientation detection: (1, 'Estimating resolution as 453 Too few characters. Skipping this page Warning. Invalid resolution 0 dpi. Using 70 instead. Too few characters. Skipping this page Error during processing.')\n"
     ]
    },
    {
     "name": "stderr",
     "output_type": "stream",
     "text": [
      "Processing documents:  45%|████▍     | 2347/5229 [1:33:25<11:51:41, 14.82s/it]"
     ]
    },
    {
     "name": "stdout",
     "output_type": "stream",
     "text": [
      "Error in OCR orientation detection: (1, 'Estimating resolution as 450 Too few characters. Skipping this page Warning. Invalid resolution 0 dpi. Using 70 instead. Too few characters. Skipping this page Error during processing.')\n"
     ]
    },
    {
     "name": "stderr",
     "output_type": "stream",
     "text": [
      "Processing documents:  46%|████▌     | 2394/5229 [1:33:59<30:53,  1.53it/s]   "
     ]
    },
    {
     "name": "stdout",
     "output_type": "stream",
     "text": [
      "Error in OCR orientation detection: (1, 'Estimating resolution as 198 Too few characters. Skipping this page Warning. Invalid resolution 0 dpi. Using 70 instead. Too few characters. Skipping this page Error during processing.')\n",
      "Error in OCR orientation detection: (1, 'Estimating resolution as 194 Too few characters. Skipping this page Warning. Invalid resolution 0 dpi. Using 70 instead. Too few characters. Skipping this page Error during processing.')\n"
     ]
    },
    {
     "name": "stderr",
     "output_type": "stream",
     "text": [
      "Processing documents:  46%|████▋     | 2428/5229 [1:34:56<43:03,  1.08it/s]  "
     ]
    },
    {
     "name": "stdout",
     "output_type": "stream",
     "text": [
      "Error in OCR orientation detection: (1, 'Estimating resolution as 756 Too few characters. Skipping this page Warning. Invalid resolution 0 dpi. Using 70 instead. Too few characters. Skipping this page Error during processing.')\n",
      "Error in OCR orientation detection: (1, 'Estimating resolution as 1772 Warning. Invalid resolution 0 dpi. Using 70 instead. Too few characters. Skipping this page Error during processing.')\n",
      "Error in OCR orientation detection: (1, 'Estimating resolution as 1123 Warning. Invalid resolution 0 dpi. Using 70 instead. Too few characters. Skipping this page Error during processing.')\n",
      "Error in OCR orientation detection: (1, 'Estimating resolution as 1392 Warning. Invalid resolution 0 dpi. Using 70 instead. Too few characters. Skipping this page Error during processing.')\n",
      "Error in OCR orientation detection: (1, 'Estimating resolution as 1482 Warning. Invalid resolution 0 dpi. Using 70 instead. Too few characters. Skipping this page Error during processing.')\n",
      "Error in OCR orientation detection: (1, 'Estimating resolution as 1159 Warning. Invalid resolution 0 dpi. Using 70 instead. Too few characters. Skipping this page Error during processing.')\n",
      "Error in OCR orientation detection: (1, 'Estimating resolution as 863 Too few characters. Skipping this page Warning. Invalid resolution 0 dpi. Using 70 instead. Too few characters. Skipping this page Error during processing.')\n",
      "Error in OCR orientation detection: (1, 'Estimating resolution as 1178 Warning. Invalid resolution 0 dpi. Using 70 instead. Too few characters. Skipping this page Error during processing.')\n",
      "Error in OCR orientation detection: (1, 'Estimating resolution as 1767 Warning. Invalid resolution 0 dpi. Using 70 instead. Too few characters. Skipping this page Error during processing.')\n",
      "Error in OCR orientation detection: (1, 'Estimating resolution as 603 Too few characters. Skipping this page Warning. Invalid resolution 0 dpi. Using 70 instead. Too few characters. Skipping this page Error during processing.')\n",
      "Error in OCR orientation detection: (1, 'Estimating resolution as 1379 Warning. Invalid resolution 0 dpi. Using 70 instead. Too few characters. Skipping this page Error during processing.')\n",
      "Error in OCR orientation detection: (1, 'Estimating resolution as 474 Too few characters. Skipping this page Warning. Invalid resolution 0 dpi. Using 70 instead. Too few characters. Skipping this page Error during processing.')\n",
      "Error in OCR orientation detection: (1, 'Estimating resolution as 1291 Warning. Invalid resolution 0 dpi. Using 70 instead. Too few characters. Skipping this page Error during processing.')\n",
      "Error in OCR orientation detection: (1, 'Estimating resolution as 650 Too few characters. Skipping this page Warning. Invalid resolution 0 dpi. Using 70 instead. Too few characters. Skipping this page Error during processing.')\n",
      "Error in OCR orientation detection: (1, 'Estimating resolution as 1768 Warning. Invalid resolution 0 dpi. Using 70 instead. Too few characters. Skipping this page Error during processing.')\n",
      "Error in OCR orientation detection: (1, 'Estimating resolution as 1450 Warning. Invalid resolution 0 dpi. Using 70 instead. Too few characters. Skipping this page Error during processing.')\n",
      "Error in OCR orientation detection: (1, 'Estimating resolution as 1325 Warning. Invalid resolution 0 dpi. Using 70 instead. Too few characters. Skipping this page Error during processing.')\n",
      "Error in OCR orientation detection: (1, 'Estimating resolution as 466 Too few characters. Skipping this page Warning. Invalid resolution 0 dpi. Using 70 instead. Too few characters. Skipping this page Error during processing.')\n",
      "Error in OCR orientation detection: (1, 'Estimating resolution as 988 Warning. Invalid resolution 0 dpi. Using 70 instead. Too few characters. Skipping this page Error during processing.')\n",
      "Error in OCR orientation detection: (1, 'Estimating resolution as 1761 Warning. Invalid resolution 0 dpi. Using 70 instead. Too few characters. Skipping this page Error during processing.')\n",
      "Error in OCR orientation detection: (1, 'Estimating resolution as 1634 Warning. Invalid resolution 0 dpi. Using 70 instead. Too few characters. Skipping this page Error during processing.')\n",
      "Error in OCR orientation detection: (1, 'Estimating resolution as 530 Too few characters. Skipping this page Warning. Invalid resolution 0 dpi. Using 70 instead. Too few characters. Skipping this page Error during processing.')\n",
      "Error in OCR orientation detection: (1, 'Estimating resolution as 1636 Too few characters. Skipping this page Warning. Invalid resolution 0 dpi. Using 70 instead. Too few characters. Skipping this page Error during processing.')\n",
      "Error in OCR orientation detection: (1, 'Estimating resolution as 668 Too few characters. Skipping this page Warning. Invalid resolution 0 dpi. Using 70 instead. Too few characters. Skipping this page Error during processing.')\n",
      "Error in OCR orientation detection: (1, 'Estimating resolution as 541 Too few characters. Skipping this page Warning. Invalid resolution 0 dpi. Using 70 instead. Too few characters. Skipping this page Error during processing.')\n",
      "Error in OCR orientation detection: (1, 'Estimating resolution as 580 Too few characters. Skipping this page Warning. Invalid resolution 0 dpi. Using 70 instead. Too few characters. Skipping this page Error during processing.')\n",
      "Error in OCR orientation detection: (1, 'Estimating resolution as 1502 Warning. Invalid resolution 0 dpi. Using 70 instead. Too few characters. Skipping this page Error during processing.')\n",
      "Error in OCR orientation detection: (1, 'Estimating resolution as 1558 Warning. Invalid resolution 0 dpi. Using 70 instead. Too few characters. Skipping this page Error during processing.')\n",
      "Error in OCR orientation detection: (1, 'Estimating resolution as 706 Too few characters. Skipping this page Warning. Invalid resolution 0 dpi. Using 70 instead. Too few characters. Skipping this page Error during processing.')\n",
      "Error in OCR orientation detection: (1, 'Estimating resolution as 1455 Warning. Invalid resolution 0 dpi. Using 70 instead. Too few characters. Skipping this page Error during processing.')\n",
      "Error in OCR orientation detection: (1, 'Estimating resolution as 488 Too few characters. Skipping this page Warning. Invalid resolution 0 dpi. Using 70 instead. Too few characters. Skipping this page Error during processing.')\n",
      "Error in OCR orientation detection: (1, 'Estimating resolution as 1018 Too few characters. Skipping this page Warning. Invalid resolution 0 dpi. Using 70 instead. Too few characters. Skipping this page Error during processing.')\n",
      "Error in OCR orientation detection: (1, 'Estimating resolution as 1514 Warning. Invalid resolution 0 dpi. Using 70 instead. Too few characters. Skipping this page Error during processing.')\n",
      "Error in OCR orientation detection: (1, 'Estimating resolution as 1534 Warning. Invalid resolution 0 dpi. Using 70 instead. Too few characters. Skipping this page Error during processing.')\n",
      "Error in OCR orientation detection: (1, 'Estimating resolution as 785 Too few characters. Skipping this page Warning. Invalid resolution 0 dpi. Using 70 instead. Too few characters. Skipping this page Error during processing.')\n",
      "Error in OCR orientation detection: (1, 'Estimating resolution as 1573 Too few characters. Skipping this page Warning. Invalid resolution 0 dpi. Using 70 instead. Too few characters. Skipping this page Error during processing.')\n",
      "Error in OCR orientation detection: (1, 'Estimating resolution as 1582 Warning. Invalid resolution 0 dpi. Using 70 instead. Too few characters. Skipping this page Error during processing.')\n",
      "Error in OCR orientation detection: (1, 'Estimating resolution as 1508 Warning. Invalid resolution 0 dpi. Using 70 instead. Too few characters. Skipping this page Error during processing.')\n",
      "Error in OCR orientation detection: (1, 'Estimating resolution as 606 Too few characters. Skipping this page Warning. Invalid resolution 0 dpi. Using 70 instead. Too few characters. Skipping this page Error during processing.')\n",
      "Error in OCR orientation detection: (1, 'Estimating resolution as 1581 Warning. Invalid resolution 0 dpi. Using 70 instead. Too few characters. Skipping this page Error during processing.')\n",
      "Error in OCR orientation detection: (1, 'Estimating resolution as 668 Too few characters. Skipping this page Warning. Invalid resolution 0 dpi. Using 70 instead. Too few characters. Skipping this page Error during processing.')\n",
      "Error in OCR orientation detection: (1, 'Estimating resolution as 1514 Warning. Invalid resolution 0 dpi. Using 70 instead. Too few characters. Skipping this page Error during processing.')\n",
      "Error in OCR orientation detection: (1, 'Estimating resolution as 602 Too few characters. Skipping this page Warning. Invalid resolution 0 dpi. Using 70 instead. Too few characters. Skipping this page Error during processing.')\n",
      "Error in OCR orientation detection: (1, 'Estimating resolution as 1197 Warning. Invalid resolution 0 dpi. Using 70 instead. Too few characters. Skipping this page Error during processing.')\n",
      "Error in OCR orientation detection: (1, 'Estimating resolution as 1053 Warning. Invalid resolution 0 dpi. Using 70 instead. Too few characters. Skipping this page Error during processing.')\n",
      "Error in OCR orientation detection: (1, 'Estimating resolution as 354 Too few characters. Skipping this page Warning. Invalid resolution 0 dpi. Using 70 instead. Too few characters. Skipping this page Error during processing.')\n",
      "Error in OCR orientation detection: (1, 'Estimating resolution as 611 Too few characters. Skipping this page Warning. Invalid resolution 0 dpi. Using 70 instead. Too few characters. Skipping this page Error during processing.')\n",
      "Error in OCR orientation detection: (1, 'Estimating resolution as 1348 Warning. Invalid resolution 0 dpi. Using 70 instead. Too few characters. Skipping this page Error during processing.')\n",
      "Error in OCR orientation detection: (1, 'Estimating resolution as 1467 Too few characters. Skipping this page Warning. Invalid resolution 0 dpi. Using 70 instead. Too few characters. Skipping this page Error during processing.')\n",
      "Error in OCR orientation detection: (1, 'Estimating resolution as 2188 Too few characters. Skipping this page Warning. Invalid resolution 0 dpi. Using 70 instead. Too few characters. Skipping this page Error during processing.')\n",
      "Error in OCR orientation detection: (1, 'Estimating resolution as 1363 Warning. Invalid resolution 0 dpi. Using 70 instead. Too few characters. Skipping this page Error during processing.')\n",
      "Error in OCR orientation detection: (1, 'Estimating resolution as 1638 Too few characters. Skipping this page Warning. Invalid resolution 0 dpi. Using 70 instead. Too few characters. Skipping this page Error during processing.')\n",
      "Error in OCR orientation detection: (1, 'Estimating resolution as 314 Warning. Invalid resolution 0 dpi. Using 70 instead. Too few characters. Skipping this page Error during processing.')\n",
      "Error in OCR orientation detection: (1, 'Estimating resolution as 1579 Warning. Invalid resolution 0 dpi. Using 70 instead. Too few characters. Skipping this page Error during processing.')\n",
      "Error in OCR orientation detection: (1, 'Estimating resolution as 1108 Warning. Invalid resolution 0 dpi. Using 70 instead. Too few characters. Skipping this page Error during processing.')\n",
      "Error in OCR orientation detection: (1, 'Estimating resolution as 1641 Warning. Invalid resolution 0 dpi. Using 70 instead. Too few characters. Skipping this page Error during processing.')\n",
      "Error in OCR orientation detection: (1, 'Estimating resolution as 616 Too few characters. Skipping this page Warning. Invalid resolution 0 dpi. Using 70 instead. Too few characters. Skipping this page Error during processing.')\n",
      "Error in OCR orientation detection: (1, 'Estimating resolution as 950 Warning. Invalid resolution 0 dpi. Using 70 instead. Too few characters. Skipping this page Error during processing.')\n",
      "Error in OCR orientation detection: (1, 'Estimating resolution as 785 Too few characters. Skipping this page Warning. Invalid resolution 0 dpi. Using 70 instead. Too few characters. Skipping this page Error during processing.')\n",
      "Error in OCR orientation detection: (1, 'Estimating resolution as 1244 Warning. Invalid resolution 0 dpi. Using 70 instead. Too few characters. Skipping this page Error during processing.')\n",
      "Error in OCR orientation detection: (1, 'Estimating resolution as 1404 Warning. Invalid resolution 0 dpi. Using 70 instead. Too few characters. Skipping this page Error during processing.')\n",
      "Error in OCR orientation detection: (1, 'Estimating resolution as 684 Too few characters. Skipping this page Warning. Invalid resolution 0 dpi. Using 70 instead. Too few characters. Skipping this page Error during processing.')\n",
      "Error in OCR orientation detection: (1, 'Estimating resolution as 611 Too few characters. Skipping this page Warning. Invalid resolution 0 dpi. Using 70 instead. Too few characters. Skipping this page Error during processing.')\n"
     ]
    },
    {
     "name": "stderr",
     "output_type": "stream",
     "text": [
      "Processing documents:  48%|████▊     | 2521/5229 [1:49:01<24:41,  1.83it/s]   "
     ]
    },
    {
     "name": "stdout",
     "output_type": "stream",
     "text": [
      "Error in OCR orientation detection: (1, 'Estimating resolution as 650 Too few characters. Skipping this page Warning. Invalid resolution 0 dpi. Using 70 instead. Too few characters. Skipping this page Error during processing.')\n"
     ]
    },
    {
     "name": "stderr",
     "output_type": "stream",
     "text": [
      "Processing documents:  51%|█████     | 2642/5229 [1:51:12<56:01,  1.30s/it]  "
     ]
    },
    {
     "name": "stdout",
     "output_type": "stream",
     "text": [
      "Error in OCR orientation detection: (1, 'Estimating resolution as 687 Too few characters. Skipping this page Warning. Invalid resolution 0 dpi. Using 70 instead. Too few characters. Skipping this page Error during processing.')\n"
     ]
    },
    {
     "name": "stderr",
     "output_type": "stream",
     "text": [
      "Processing documents:  52%|█████▏    | 2736/5229 [1:52:28<23:48,  1.75it/s]  "
     ]
    },
    {
     "name": "stdout",
     "output_type": "stream",
     "text": [
      "Error in OCR orientation detection: (1, 'Estimating resolution as 416 Too few characters. Skipping this page Warning. Invalid resolution 0 dpi. Using 70 instead. Too few characters. Skipping this page Error during processing.')\n",
      "Error in OCR orientation detection: (1, 'Estimating resolution as 243 Warning. Invalid resolution 0 dpi. Using 70 instead. Too few characters. Skipping this page Error during processing.')\n"
     ]
    },
    {
     "name": "stderr",
     "output_type": "stream",
     "text": [
      "Processing documents:  53%|█████▎    | 2752/5229 [1:52:50<40:34,  1.02it/s]  "
     ]
    },
    {
     "name": "stdout",
     "output_type": "stream",
     "text": [
      "Error in OCR orientation detection: (1, 'Estimating resolution as 460 Too few characters. Skipping this page Warning. Invalid resolution 0 dpi. Using 70 instead. Too few characters. Skipping this page Error during processing.')\n",
      "Error in OCR orientation detection: (1, 'Estimating resolution as 458 Warning. Invalid resolution 0 dpi. Using 70 instead. Too few characters. Skipping this page Error during processing.')\n"
     ]
    },
    {
     "name": "stderr",
     "output_type": "stream",
     "text": [
      "Processing documents:  54%|█████▍    | 2821/5229 [1:54:37<14:35,  2.75it/s]  "
     ]
    },
    {
     "name": "stdout",
     "output_type": "stream",
     "text": [
      "Error in OCR orientation detection: (1, 'Estimating resolution as 227 Too few characters. Skipping this page Warning. Invalid resolution 0 dpi. Using 70 instead. Too few characters. Skipping this page Error during processing.')\n"
     ]
    },
    {
     "name": "stderr",
     "output_type": "stream",
     "text": [
      "Processing documents:  56%|█████▌    | 2932/5229 [1:57:34<37:03,  1.03it/s]  "
     ]
    },
    {
     "name": "stdout",
     "output_type": "stream",
     "text": [
      "Error in OCR orientation detection: (1, 'Estimating resolution as 987 Warning. Invalid resolution 0 dpi. Using 70 instead. Too few characters. Skipping this page Error during processing.')\n"
     ]
    },
    {
     "name": "stderr",
     "output_type": "stream",
     "text": [
      "Processing documents:  57%|█████▋    | 2964/5229 [1:58:15<55:31,  1.47s/it]  "
     ]
    },
    {
     "name": "stdout",
     "output_type": "stream",
     "text": [
      "Error in OCR orientation detection: (1, 'Estimating resolution as 258 Warning. Invalid resolution 0 dpi. Using 70 instead. Too few characters. Skipping this page Error during processing.')\n"
     ]
    },
    {
     "name": "stderr",
     "output_type": "stream",
     "text": [
      "Processing documents:  57%|█████▋    | 2965/5229 [1:58:40<2:03:18,  3.27s/it]"
     ]
    },
    {
     "name": "stdout",
     "output_type": "stream",
     "text": [
      "Error in OCR orientation detection: (1, 'Estimating resolution as 2219 Too few characters. Skipping this page Warning. Invalid resolution 0 dpi. Using 70 instead. Too few characters. Skipping this page Error during processing.')\n",
      "Error in OCR orientation detection: (1, 'Estimating resolution as 2231 Too few characters. Skipping this page Warning. Invalid resolution 0 dpi. Using 70 instead. Too few characters. Skipping this page Error during processing.')\n",
      "Error in OCR orientation detection: (1, 'Estimating resolution as 2211 Warning. Invalid resolution 0 dpi. Using 70 instead. Too few characters. Skipping this page Error during processing.')\n",
      "Error in OCR orientation detection: (1, 'Estimating resolution as 2080 Warning. Invalid resolution 0 dpi. Using 70 instead. Too few characters. Skipping this page Error during processing.')\n",
      "Error in OCR orientation detection: (1, 'Estimating resolution as 2191 Warning. Invalid resolution 0 dpi. Using 70 instead. Too few characters. Skipping this page Error during processing.')\n",
      "Error in OCR orientation detection: (1, 'Estimating resolution as 2259 Too few characters. Skipping this page Warning. Invalid resolution 0 dpi. Using 70 instead. Too few characters. Skipping this page Error during processing.')\n",
      "Error in OCR orientation detection: (1, 'Estimating resolution as 2216 Warning. Invalid resolution 0 dpi. Using 70 instead. Too few characters. Skipping this page Error during processing.')\n",
      "Error in OCR orientation detection: (1, 'Estimating resolution as 2062 Too few characters. Skipping this page Warning. Invalid resolution 0 dpi. Using 70 instead. Too few characters. Skipping this page Error during processing.')\n",
      "Error in OCR orientation detection: (1, 'Estimating resolution as 2197 Warning. Invalid resolution 0 dpi. Using 70 instead. Too few characters. Skipping this page Error during processing.')\n",
      "Error in OCR orientation detection: (1, 'Estimating resolution as 2198 Warning. Invalid resolution 0 dpi. Using 70 instead. Too few characters. Skipping this page Error during processing.')\n",
      "Error in OCR orientation detection: (1, 'Estimating resolution as 2177 Too few characters. Skipping this page Warning. Invalid resolution 0 dpi. Using 70 instead. Too few characters. Skipping this page Error during processing.')\n"
     ]
    },
    {
     "name": "stderr",
     "output_type": "stream",
     "text": [
      "Processing documents:  57%|█████▋    | 2966/5229 [1:59:06<3:27:41,  5.51s/it]"
     ]
    },
    {
     "name": "stdout",
     "output_type": "stream",
     "text": [
      "Error in OCR orientation detection: (1, 'Estimating resolution as 2200 Too few characters. Skipping this page Warning. Invalid resolution 0 dpi. Using 70 instead. Too few characters. Skipping this page Error during processing.')\n"
     ]
    },
    {
     "name": "stderr",
     "output_type": "stream",
     "text": [
      "Processing documents:  58%|█████▊    | 3057/5229 [2:01:37<1:32:35,  2.56s/it]"
     ]
    },
    {
     "name": "stdout",
     "output_type": "stream",
     "text": [
      "Error in OCR orientation detection: (1, 'Estimating resolution as 236 Too few characters. Skipping this page Warning. Invalid resolution 0 dpi. Using 70 instead. Too few characters. Skipping this page Error during processing.')\n",
      "Error in OCR orientation detection: (1, 'Estimating resolution as 235 Too few characters. Skipping this page Warning. Invalid resolution 0 dpi. Using 70 instead. Too few characters. Skipping this page Error during processing.')\n",
      "Error in OCR orientation detection: (1, 'Estimating resolution as 222 Too few characters. Skipping this page Warning. Invalid resolution 0 dpi. Using 70 instead. Too few characters. Skipping this page Error during processing.')\n",
      "Error in OCR orientation detection: (1, 'Estimating resolution as 231 Too few characters. Skipping this page Warning. Invalid resolution 0 dpi. Using 70 instead. Too few characters. Skipping this page Error during processing.')\n",
      "Error in OCR orientation detection: (1, 'Estimating resolution as 244 Too few characters. Skipping this page Warning. Invalid resolution 0 dpi. Using 70 instead. Too few characters. Skipping this page Error during processing.')\n",
      "Error in OCR orientation detection: (1, 'Estimating resolution as 225 Too few characters. Skipping this page Warning. Invalid resolution 0 dpi. Using 70 instead. Too few characters. Skipping this page Error during processing.')\n",
      "Error in OCR orientation detection: (1, 'Estimating resolution as 247 Too few characters. Skipping this page Warning. Invalid resolution 0 dpi. Using 70 instead. Too few characters. Skipping this page Error during processing.')\n"
     ]
    },
    {
     "name": "stderr",
     "output_type": "stream",
     "text": [
      "Processing documents:  60%|█████▉    | 3117/5229 [2:05:01<3:41:20,  6.29s/it]"
     ]
    },
    {
     "name": "stdout",
     "output_type": "stream",
     "text": [
      "Error in OCR orientation detection: (1, 'Estimating resolution as 808 Too few characters. Skipping this page Warning. Invalid resolution 0 dpi. Using 70 instead. Too few characters. Skipping this page Error during processing.')\n"
     ]
    },
    {
     "name": "stderr",
     "output_type": "stream",
     "text": [
      "Processing documents:  61%|██████    | 3186/5229 [2:06:24<34:27,  1.01s/it]  "
     ]
    },
    {
     "name": "stdout",
     "output_type": "stream",
     "text": [
      "Error in OCR orientation detection: (1, 'Estimating resolution as 884 Too few characters. Skipping this page Warning. Invalid resolution 0 dpi. Using 70 instead. Too few characters. Skipping this page Error during processing.')\n",
      "Error in OCR orientation detection: (1, 'Estimating resolution as 919 Too few characters. Skipping this page Warning. Invalid resolution 0 dpi. Using 70 instead. Too few characters. Skipping this page Error during processing.')\n",
      "Error in OCR orientation detection: (1, 'Estimating resolution as 947 Too few characters. Skipping this page Warning. Invalid resolution 0 dpi. Using 70 instead. Too few characters. Skipping this page Error during processing.')\n",
      "Error in OCR orientation detection: (1, 'Estimating resolution as 866 Too few characters. Skipping this page Warning. Invalid resolution 0 dpi. Using 70 instead. Too few characters. Skipping this page Error during processing.')\n",
      "Error in OCR orientation detection: (1, 'Estimating resolution as 922 Too few characters. Skipping this page Warning. Invalid resolution 0 dpi. Using 70 instead. Too few characters. Skipping this page Error during processing.')\n",
      "Error in OCR orientation detection: (1, 'Estimating resolution as 828 Warning. Invalid resolution 0 dpi. Using 70 instead. Too few characters. Skipping this page Error during processing.')\n",
      "Error in OCR orientation detection: (1, 'Estimating resolution as 863 Too few characters. Skipping this page Warning. Invalid resolution 0 dpi. Using 70 instead. Too few characters. Skipping this page Error during processing.')\n",
      "Error in OCR orientation detection: (1, 'Estimating resolution as 884 Too few characters. Skipping this page Warning. Invalid resolution 0 dpi. Using 70 instead. Too few characters. Skipping this page Error during processing.')\n",
      "Error in OCR orientation detection: (1, 'Estimating resolution as 902 Too few characters. Skipping this page Warning. Invalid resolution 0 dpi. Using 70 instead. Too few characters. Skipping this page Error during processing.')\n",
      "Error in OCR orientation detection: (1, 'Estimating resolution as 917 Too few characters. Skipping this page Warning. Invalid resolution 0 dpi. Using 70 instead. Too few characters. Skipping this page Error during processing.')\n",
      "Error in OCR orientation detection: (1, 'Estimating resolution as 909 Warning. Invalid resolution 0 dpi. Using 70 instead. Too few characters. Skipping this page Error during processing.')\n",
      "Error in OCR orientation detection: (1, 'Estimating resolution as 831 Too few characters. Skipping this page Warning. Invalid resolution 0 dpi. Using 70 instead. Too few characters. Skipping this page Error during processing.')\n",
      "Error in OCR orientation detection: (1, 'Estimating resolution as 970 Warning. Invalid resolution 0 dpi. Using 70 instead. Too few characters. Skipping this page Error during processing.')\n",
      "Error in OCR orientation detection: (1, 'Estimating resolution as 645 Too few characters. Skipping this page Warning. Invalid resolution 0 dpi. Using 70 instead. Too few characters. Skipping this page Error during processing.')\n",
      "Error in OCR orientation detection: (1, 'Estimating resolution as 936 Too few characters. Skipping this page Warning. Invalid resolution 0 dpi. Using 70 instead. Too few characters. Skipping this page Error during processing.')\n",
      "Error in OCR orientation detection: (1, 'Estimating resolution as 913 Too few characters. Skipping this page Warning. Invalid resolution 0 dpi. Using 70 instead. Too few characters. Skipping this page Error during processing.')\n",
      "Error in OCR orientation detection: (1, 'Estimating resolution as 834 Too few characters. Skipping this page Warning. Invalid resolution 0 dpi. Using 70 instead. Too few characters. Skipping this page Error during processing.')\n"
     ]
    },
    {
     "name": "stderr",
     "output_type": "stream",
     "text": [
      "Processing documents:  62%|██████▏   | 3238/5229 [2:10:24<21:10,  1.57it/s]  "
     ]
    },
    {
     "name": "stdout",
     "output_type": "stream",
     "text": [
      "Error in OCR orientation detection: (1, 'Estimating resolution as 461 Too few characters. Skipping this page Warning. Invalid resolution 0 dpi. Using 70 instead. Too few characters. Skipping this page Error during processing.')\n",
      "Error in OCR orientation detection: (1, 'Estimating resolution as 451 Too few characters. Skipping this page Warning. Invalid resolution 0 dpi. Using 70 instead. Too few characters. Skipping this page Error during processing.')\n",
      "Error in OCR orientation detection: (1, 'Estimating resolution as 520 Too few characters. Skipping this page Warning. Invalid resolution 0 dpi. Using 70 instead. Too few characters. Skipping this page Error during processing.')\n",
      "Error in OCR orientation detection: (1, 'Estimating resolution as 454 Too few characters. Skipping this page Warning. Invalid resolution 0 dpi. Using 70 instead. Too few characters. Skipping this page Error during processing.')\n",
      "Error in OCR orientation detection: (1, 'Estimating resolution as 1470 Too few characters. Skipping this page Warning. Invalid resolution 0 dpi. Using 70 instead. Too few characters. Skipping this page Error during processing.')\n",
      "Error in OCR orientation detection: (1, 'Estimating resolution as 371 Too few characters. Skipping this page Warning. Invalid resolution 0 dpi. Using 70 instead. Too few characters. Skipping this page Error during processing.')\n",
      "Error in OCR orientation detection: (1, 'Estimating resolution as 459 Too few characters. Skipping this page Warning. Invalid resolution 0 dpi. Using 70 instead. Too few characters. Skipping this page Error during processing.')\n",
      "Error in OCR orientation detection: (1, 'Estimating resolution as 178 Warning. Invalid resolution 0 dpi. Using 70 instead. Too few characters. Skipping this page Error during processing.')\n",
      "Error in OCR orientation detection: (1, 'Estimating resolution as 459 Too few characters. Skipping this page Warning. Invalid resolution 0 dpi. Using 70 instead. Too few characters. Skipping this page Error during processing.')\n",
      "Error in OCR orientation detection: (1, 'Estimating resolution as 370 Too few characters. Skipping this page Warning. Invalid resolution 0 dpi. Using 70 instead. Too few characters. Skipping this page Error during processing.')\n",
      "Error in OCR orientation detection: (1, 'Estimating resolution as 460 Too few characters. Skipping this page Warning. Invalid resolution 0 dpi. Using 70 instead. Too few characters. Skipping this page Error during processing.')\n"
     ]
    },
    {
     "name": "stderr",
     "output_type": "stream",
     "text": [
      "Processing documents:  64%|██████▎   | 3331/5229 [2:14:16<26:37,  1.19it/s]  "
     ]
    },
    {
     "name": "stdout",
     "output_type": "stream",
     "text": [
      "Error in OCR orientation detection: (1, 'Estimating resolution as 363 Too few characters. Skipping this page Warning. Invalid resolution 0 dpi. Using 70 instead. Too few characters. Skipping this page Error during processing.')\n"
     ]
    },
    {
     "name": "stderr",
     "output_type": "stream",
     "text": [
      "Processing documents:  66%|██████▌   | 3436/5229 [2:18:56<1:49:28,  3.66s/it]"
     ]
    },
    {
     "name": "stdout",
     "output_type": "stream",
     "text": [
      "Error in OCR orientation detection: (1, 'Estimating resolution as 416 Too few characters. Skipping this page Warning. Invalid resolution 0 dpi. Using 70 instead. Too few characters. Skipping this page Error during processing.')\n"
     ]
    },
    {
     "name": "stderr",
     "output_type": "stream",
     "text": [
      "Processing documents:  67%|██████▋   | 3523/5229 [2:19:52<16:05,  1.77it/s]  "
     ]
    },
    {
     "name": "stdout",
     "output_type": "stream",
     "text": [
      "Error in OCR orientation detection: (1, 'Estimating resolution as 458 Too few characters. Skipping this page Warning. Invalid resolution 0 dpi. Using 70 instead. Too few characters. Skipping this page Error during processing.')\n"
     ]
    },
    {
     "name": "stderr",
     "output_type": "stream",
     "text": [
      "Processing documents:  68%|██████▊   | 3570/5229 [2:20:35<28:34,  1.03s/it]"
     ]
    },
    {
     "name": "stdout",
     "output_type": "stream",
     "text": [
      "Error in OCR orientation detection: (1, 'Estimating resolution as 443 Too few characters. Skipping this page Warning. Invalid resolution 0 dpi. Using 70 instead. Too few characters. Skipping this page Error during processing.')\n"
     ]
    },
    {
     "name": "stderr",
     "output_type": "stream",
     "text": [
      "Processing documents:  71%|███████   | 3704/5229 [2:24:26<09:45,  2.61it/s]  "
     ]
    },
    {
     "name": "stdout",
     "output_type": "stream",
     "text": [
      "Error in OCR orientation detection: (1, 'Estimating resolution as 429 Too few characters. Skipping this page Warning. Invalid resolution 0 dpi. Using 70 instead. Too few characters. Skipping this page Error during processing.')\n",
      "Error in OCR orientation detection: (1, 'Estimating resolution as 431 Too few characters. Skipping this page Warning. Invalid resolution 0 dpi. Using 70 instead. Too few characters. Skipping this page Error during processing.')\n"
     ]
    },
    {
     "name": "stderr",
     "output_type": "stream",
     "text": [
      "Processing documents:  74%|███████▍  | 3884/5229 [2:30:54<10:36,  2.11it/s]  "
     ]
    },
    {
     "name": "stdout",
     "output_type": "stream",
     "text": [
      "Error in OCR orientation detection: (1, 'Estimating resolution as 266 Warning. Invalid resolution 0 dpi. Using 70 instead. Too few characters. Skipping this page Error during processing.')\n"
     ]
    },
    {
     "name": "stderr",
     "output_type": "stream",
     "text": [
      "Processing documents:  75%|███████▍  | 3901/5229 [2:32:12<2:25:52,  6.59s/it]"
     ]
    },
    {
     "name": "stdout",
     "output_type": "stream",
     "text": [
      "Error in OCR orientation detection: (1, 'Estimating resolution as 476 Too few characters. Skipping this page Warning. Invalid resolution 0 dpi. Using 70 instead. Too few characters. Skipping this page Error during processing.')\n",
      "Error in OCR orientation detection: (1, 'Estimating resolution as 471 Too few characters. Skipping this page Warning. Invalid resolution 0 dpi. Using 70 instead. Too few characters. Skipping this page Error during processing.')\n",
      "Error in OCR orientation detection: (1, 'Estimating resolution as 471 Too few characters. Skipping this page Warning. Invalid resolution 0 dpi. Using 70 instead. Too few characters. Skipping this page Error during processing.')\n",
      "Error in OCR orientation detection: (1, 'Estimating resolution as 474 Too few characters. Skipping this page Warning. Invalid resolution 0 dpi. Using 70 instead. Too few characters. Skipping this page Error during processing.')\n",
      "Error in OCR orientation detection: (1, 'Estimating resolution as 492 Too few characters. Skipping this page Warning. Invalid resolution 0 dpi. Using 70 instead. Too few characters. Skipping this page Error during processing.')\n",
      "Error in OCR orientation detection: (1, 'Estimating resolution as 493 Too few characters. Skipping this page Warning. Invalid resolution 0 dpi. Using 70 instead. Too few characters. Skipping this page Error during processing.')\n",
      "Error in OCR orientation detection: (1, 'Estimating resolution as 472 Too few characters. Skipping this page Warning. Invalid resolution 0 dpi. Using 70 instead. Too few characters. Skipping this page Error during processing.')\n",
      "Error in OCR orientation detection: (1, 'Estimating resolution as 471 Too few characters. Skipping this page Warning. Invalid resolution 0 dpi. Using 70 instead. Too few characters. Skipping this page Error during processing.')\n"
     ]
    },
    {
     "name": "stderr",
     "output_type": "stream",
     "text": [
      "Processing documents:  75%|███████▍  | 3913/5229 [2:36:21<4:35:44, 12.57s/it] "
     ]
    },
    {
     "name": "stdout",
     "output_type": "stream",
     "text": [
      "Error in OCR orientation detection: (1, 'Estimating resolution as 428 Too few characters. Skipping this page Warning. Invalid resolution 0 dpi. Using 70 instead. Too few characters. Skipping this page Error during processing.')\n"
     ]
    },
    {
     "name": "stderr",
     "output_type": "stream",
     "text": [
      "Processing documents:  75%|███████▌  | 3927/5229 [2:36:38<1:11:58,  3.32s/it]"
     ]
    },
    {
     "name": "stdout",
     "output_type": "stream",
     "text": [
      "Error in OCR orientation detection: (1, 'Too few characters. Skipping this page Warning. Invalid resolution 0 dpi. Using 70 instead. Too few characters. Skipping this page Error during processing.')\n"
     ]
    },
    {
     "name": "stderr",
     "output_type": "stream",
     "text": [
      "Processing documents:  76%|███████▌  | 3973/5229 [2:37:09<11:45,  1.78it/s]  "
     ]
    },
    {
     "name": "stdout",
     "output_type": "stream",
     "text": [
      "Error in OCR orientation detection: (1, 'Estimating resolution as 764 Too few characters. Skipping this page Warning. Invalid resolution 0 dpi. Using 70 instead. Too few characters. Skipping this page Error during processing.')\n",
      "Error in OCR orientation detection: (1, 'Estimating resolution as 787 Too few characters. Skipping this page Warning. Invalid resolution 0 dpi. Using 70 instead. Too few characters. Skipping this page Error during processing.')\n",
      "Error in OCR orientation detection: (1, 'Estimating resolution as 785 Too few characters. Skipping this page Warning. Invalid resolution 0 dpi. Using 70 instead. Too few characters. Skipping this page Error during processing.')\n",
      "Error in OCR orientation detection: (1, 'Estimating resolution as 777 Too few characters. Skipping this page Warning. Invalid resolution 0 dpi. Using 70 instead. Too few characters. Skipping this page Error during processing.')\n",
      "Error in OCR orientation detection: (1, 'Estimating resolution as 775 Too few characters. Skipping this page Warning. Invalid resolution 0 dpi. Using 70 instead. Too few characters. Skipping this page Error during processing.')\n",
      "Error in OCR orientation detection: (1, 'Estimating resolution as 787 Too few characters. Skipping this page Warning. Invalid resolution 0 dpi. Using 70 instead. Too few characters. Skipping this page Error during processing.')\n",
      "Error in OCR orientation detection: (1, 'Estimating resolution as 791 Too few characters. Skipping this page Warning. Invalid resolution 0 dpi. Using 70 instead. Too few characters. Skipping this page Error during processing.')\n",
      "Error in OCR orientation detection: (1, 'Estimating resolution as 749 Too few characters. Skipping this page Warning. Invalid resolution 0 dpi. Using 70 instead. Too few characters. Skipping this page Error during processing.')\n",
      "Error in OCR orientation detection: (1, 'Estimating resolution as 788 Too few characters. Skipping this page Warning. Invalid resolution 0 dpi. Using 70 instead. Too few characters. Skipping this page Error during processing.')\n"
     ]
    },
    {
     "name": "stderr",
     "output_type": "stream",
     "text": [
      "Processing documents:  76%|███████▌  | 3977/5229 [2:38:08<2:07:10,  6.09s/it]"
     ]
    },
    {
     "name": "stdout",
     "output_type": "stream",
     "text": [
      "Error in OCR orientation detection: (1, 'Estimating resolution as 523 Too few characters. Skipping this page Warning. Invalid resolution 0 dpi. Using 70 instead. Too few characters. Skipping this page Error during processing.')\n"
     ]
    },
    {
     "name": "stderr",
     "output_type": "stream",
     "text": [
      "Processing documents:  76%|███████▋  | 3988/5229 [2:38:10<50:59,  2.47s/it]  "
     ]
    },
    {
     "name": "stdout",
     "output_type": "stream",
     "text": [
      "Error in OCR orientation detection: (1, 'Estimating resolution as 384 Too few characters. Skipping this page Warning. Invalid resolution 0 dpi. Using 70 instead. Too few characters. Skipping this page Error during processing.')\n"
     ]
    },
    {
     "name": "stderr",
     "output_type": "stream",
     "text": [
      "Processing documents:  77%|███████▋  | 4047/5229 [2:41:30<08:10,  2.41it/s]  "
     ]
    },
    {
     "name": "stdout",
     "output_type": "stream",
     "text": [
      "Error in OCR orientation detection: (1, 'Estimating resolution as 192 Warning. Invalid resolution 0 dpi. Using 70 instead. Too few characters. Skipping this page Error during processing.')\n"
     ]
    },
    {
     "name": "stderr",
     "output_type": "stream",
     "text": [
      "Processing documents:  77%|███████▋  | 4048/5229 [2:41:34<13:22,  1.47it/s]"
     ]
    },
    {
     "name": "stdout",
     "output_type": "stream",
     "text": [
      "Error in OCR orientation detection: (1, 'Estimating resolution as 339 Too few characters. Skipping this page Warning. Invalid resolution 0 dpi. Using 70 instead. Too few characters. Skipping this page Error during processing.')\n"
     ]
    },
    {
     "name": "stderr",
     "output_type": "stream",
     "text": [
      "Processing documents:  79%|███████▉  | 4135/5229 [2:43:22<12:26,  1.46it/s]  "
     ]
    },
    {
     "name": "stdout",
     "output_type": "stream",
     "text": [
      "Error in OCR orientation detection: (1, 'Estimating resolution as 267 Too few characters. Skipping this page Warning. Invalid resolution 0 dpi. Using 70 instead. Too few characters. Skipping this page Error during processing.')\n"
     ]
    },
    {
     "name": "stderr",
     "output_type": "stream",
     "text": [
      "Processing documents:  79%|███████▉  | 4147/5229 [2:43:38<17:35,  1.03it/s]"
     ]
    },
    {
     "name": "stdout",
     "output_type": "stream",
     "text": [
      "Error in OCR orientation detection: (1, 'Estimating resolution as 278 Too few characters. Skipping this page Warning. Invalid resolution 0 dpi. Using 70 instead. Too few characters. Skipping this page Error during processing.')\n"
     ]
    },
    {
     "name": "stderr",
     "output_type": "stream",
     "text": [
      "Processing documents:  80%|████████  | 4202/5229 [2:44:21<10:02,  1.71it/s]"
     ]
    },
    {
     "name": "stdout",
     "output_type": "stream",
     "text": [
      "Error in OCR orientation detection: (1, 'Estimating resolution as 207 Warning. Invalid resolution 0 dpi. Using 70 instead. Too few characters. Skipping this page Error during processing.')\n"
     ]
    },
    {
     "name": "stderr",
     "output_type": "stream",
     "text": [
      "Processing documents:  87%|████████▋ | 4555/5229 [2:50:06<04:06,  2.74it/s]  "
     ]
    },
    {
     "name": "stdout",
     "output_type": "stream",
     "text": [
      "Error in OCR orientation detection: (1, 'Estimating resolution as 284 Warning. Invalid resolution 0 dpi. Using 70 instead. Too few characters. Skipping this page Error during processing.')\n",
      "Error in OCR orientation detection: (1, 'Too few characters. Skipping this page Warning. Invalid resolution 0 dpi. Using 70 instead. Too few characters. Skipping this page Error during processing.')\n",
      "Error in OCR orientation detection: (1, 'Too few characters. Skipping this page Warning. Invalid resolution 0 dpi. Using 70 instead. Too few characters. Skipping this page Error during processing.')\n",
      "Error in OCR orientation detection: (1, 'Too few characters. Skipping this page Warning. Invalid resolution 0 dpi. Using 70 instead. Too few characters. Skipping this page Error during processing.')\n",
      "Error in OCR orientation detection: (1, 'Too few characters. Skipping this page Warning. Invalid resolution 0 dpi. Using 70 instead. Too few characters. Skipping this page Error during processing.')\n"
     ]
    },
    {
     "name": "stderr",
     "output_type": "stream",
     "text": [
      "Processing documents:  87%|████████▋ | 4556/5229 [2:50:12<08:20,  1.35it/s]"
     ]
    },
    {
     "name": "stdout",
     "output_type": "stream",
     "text": [
      "Error in OCR orientation detection: (1, 'Too few characters. Skipping this page Warning. Invalid resolution 0 dpi. Using 70 instead. Too few characters. Skipping this page Error during processing.')\n"
     ]
    },
    {
     "name": "stderr",
     "output_type": "stream",
     "text": [
      "Processing documents:  88%|████████▊ | 4596/5229 [2:51:18<22:58,  2.18s/it]"
     ]
    },
    {
     "name": "stdout",
     "output_type": "stream",
     "text": [
      "Error in OCR orientation detection: (1, 'Estimating resolution as 174 Warning. Invalid resolution 0 dpi. Using 70 instead. Too few characters. Skipping this page Error during processing.')\n",
      "Error in OCR orientation detection: (1, 'Estimating resolution as 173 Warning. Invalid resolution 0 dpi. Using 70 instead. Too few characters. Skipping this page Error during processing.')\n",
      "Error in OCR orientation detection: (1, 'Estimating resolution as 182 Warning. Invalid resolution 0 dpi. Using 70 instead. Too few characters. Skipping this page Error during processing.')\n",
      "Error in OCR orientation detection: (1, 'Estimating resolution as 172 Warning. Invalid resolution 0 dpi. Using 70 instead. Too few characters. Skipping this page Error during processing.')\n",
      "Error in OCR orientation detection: (1, 'Estimating resolution as 178 Warning. Invalid resolution 0 dpi. Using 70 instead. Too few characters. Skipping this page Error during processing.')\n",
      "Error in OCR orientation detection: (1, 'Estimating resolution as 174 Warning. Invalid resolution 0 dpi. Using 70 instead. Too few characters. Skipping this page Error during processing.')\n",
      "Error in OCR orientation detection: (1, 'Estimating resolution as 189 Warning. Invalid resolution 0 dpi. Using 70 instead. Too few characters. Skipping this page Error during processing.')\n"
     ]
    },
    {
     "name": "stderr",
     "output_type": "stream",
     "text": [
      "Processing documents:  89%|████████▉ | 4645/5229 [2:52:54<09:24,  1.03it/s]  "
     ]
    },
    {
     "name": "stdout",
     "output_type": "stream",
     "text": [
      "Error in OCR orientation detection: (1, 'Estimating resolution as 475 Too few characters. Skipping this page Warning. Invalid resolution 0 dpi. Using 70 instead. Too few characters. Skipping this page Error during processing.')\n"
     ]
    },
    {
     "name": "stderr",
     "output_type": "stream",
     "text": [
      "Processing documents:  89%|████████▉ | 4648/5229 [2:52:56<08:32,  1.13it/s]"
     ]
    },
    {
     "name": "stdout",
     "output_type": "stream",
     "text": [
      "Error in OCR orientation detection: (1, 'Estimating resolution as 1336 Warning. Invalid resolution 0 dpi. Using 70 instead. Too few characters. Skipping this page Error during processing.')\n"
     ]
    },
    {
     "name": "stderr",
     "output_type": "stream",
     "text": [
      "Processing documents:  90%|█████████ | 4709/5229 [2:54:10<06:18,  1.37it/s]"
     ]
    },
    {
     "name": "stdout",
     "output_type": "stream",
     "text": [
      "Error in OCR orientation detection: (1, 'Estimating resolution as 327 Too few characters. Skipping this page Warning. Invalid resolution 0 dpi. Using 70 instead. Too few characters. Skipping this page Error during processing.')\n",
      "Error in OCR orientation detection: (1, 'Estimating resolution as 169 Too few characters. Skipping this page Warning. Invalid resolution 0 dpi. Using 70 instead. Too few characters. Skipping this page Error during processing.')\n"
     ]
    },
    {
     "name": "stderr",
     "output_type": "stream",
     "text": [
      "Processing documents:  90%|█████████ | 4732/5229 [2:54:28<05:59,  1.38it/s]"
     ]
    },
    {
     "name": "stdout",
     "output_type": "stream",
     "text": [
      "Error in OCR orientation detection: (1, 'Estimating resolution as 224 Too few characters. Skipping this page Warning. Invalid resolution 0 dpi. Using 70 instead. Too few characters. Skipping this page Error during processing.')\n",
      "Error in OCR orientation detection: (1, 'Estimating resolution as 253 Too few characters. Skipping this page Warning. Invalid resolution 0 dpi. Using 70 instead. Too few characters. Skipping this page Error during processing.')\n",
      "Error in OCR orientation detection: (1, 'Estimating resolution as 224 Too few characters. Skipping this page Warning. Invalid resolution 0 dpi. Using 70 instead. Too few characters. Skipping this page Error during processing.')\n",
      "Error in OCR orientation detection: (1, 'Estimating resolution as 227 Too few characters. Skipping this page Warning. Invalid resolution 0 dpi. Using 70 instead. Too few characters. Skipping this page Error during processing.')\n",
      "Error in OCR orientation detection: (1, 'Estimating resolution as 225 Too few characters. Skipping this page Warning. Invalid resolution 0 dpi. Using 70 instead. Too few characters. Skipping this page Error during processing.')\n",
      "Error in OCR orientation detection: (1, 'Estimating resolution as 234 Too few characters. Skipping this page Warning. Invalid resolution 0 dpi. Using 70 instead. Too few characters. Skipping this page Error during processing.')\n",
      "Error in OCR orientation detection: (1, 'Estimating resolution as 220 Too few characters. Skipping this page Warning. Invalid resolution 0 dpi. Using 70 instead. Too few characters. Skipping this page Error during processing.')\n",
      "Error in OCR orientation detection: (1, 'Estimating resolution as 225 Too few characters. Skipping this page Warning. Invalid resolution 0 dpi. Using 70 instead. Too few characters. Skipping this page Error during processing.')\n",
      "Error in OCR orientation detection: (1, 'Estimating resolution as 157 Too few characters. Skipping this page Warning. Invalid resolution 0 dpi. Using 70 instead. Too few characters. Skipping this page Error during processing.')\n",
      "Error in OCR orientation detection: (1, 'Estimating resolution as 233 Too few characters. Skipping this page Warning. Invalid resolution 0 dpi. Using 70 instead. Too few characters. Skipping this page Error during processing.')\n",
      "Error in OCR orientation detection: (1, 'Estimating resolution as 241 Too few characters. Skipping this page Warning. Invalid resolution 0 dpi. Using 70 instead. Too few characters. Skipping this page Error during processing.')\n",
      "Error in OCR orientation detection: (1, 'Estimating resolution as 242 Too few characters. Skipping this page Warning. Invalid resolution 0 dpi. Using 70 instead. Too few characters. Skipping this page Error during processing.')\n",
      "Error in OCR orientation detection: (1, 'Estimating resolution as 223 Too few characters. Skipping this page Warning. Invalid resolution 0 dpi. Using 70 instead. Too few characters. Skipping this page Error during processing.')\n",
      "Error in OCR orientation detection: (1, 'Estimating resolution as 220 Too few characters. Skipping this page Warning. Invalid resolution 0 dpi. Using 70 instead. Too few characters. Skipping this page Error during processing.')\n"
     ]
    },
    {
     "name": "stderr",
     "output_type": "stream",
     "text": [
      "Processing documents:  93%|█████████▎| 4873/5229 [3:00:57<05:22,  1.11it/s]  "
     ]
    },
    {
     "name": "stdout",
     "output_type": "stream",
     "text": [
      "Error in OCR orientation detection: (1, 'Estimating resolution as 174 Warning. Invalid resolution 0 dpi. Using 70 instead. Too few characters. Skipping this page Error during processing.')\n",
      "Error in OCR orientation detection: (1, 'Estimating resolution as 164 Warning. Invalid resolution 0 dpi. Using 70 instead. Too few characters. Skipping this page Error during processing.')\n",
      "Error in OCR orientation detection: (1, 'Estimating resolution as 177 Warning. Invalid resolution 0 dpi. Using 70 instead. Too few characters. Skipping this page Error during processing.')\n"
     ]
    },
    {
     "name": "stderr",
     "output_type": "stream",
     "text": [
      "Processing documents:  94%|█████████▍| 4921/5229 [3:01:37<03:11,  1.61it/s]"
     ]
    },
    {
     "name": "stdout",
     "output_type": "stream",
     "text": [
      "Error in OCR orientation detection: (1, 'Estimating resolution as 99 Warning. Invalid resolution 0 dpi. Using 70 instead. Too few characters. Skipping this page Error during processing.')\n",
      "Error in OCR orientation detection: (1, 'Estimating resolution as 100 Warning. Invalid resolution 0 dpi. Using 70 instead. Too few characters. Skipping this page Error during processing.')\n"
     ]
    },
    {
     "name": "stderr",
     "output_type": "stream",
     "text": [
      "Processing documents:  94%|█████████▍| 4922/5229 [3:01:38<03:48,  1.34it/s]"
     ]
    },
    {
     "name": "stdout",
     "output_type": "stream",
     "text": [
      "Error in OCR orientation detection: (1, 'Estimating resolution as 113 Warning. Invalid resolution 0 dpi. Using 70 instead. Too few characters. Skipping this page Error during processing.')\n"
     ]
    },
    {
     "name": "stderr",
     "output_type": "stream",
     "text": [
      "Processing documents:  99%|█████████▊| 5153/5229 [3:05:16<00:20,  3.66it/s]"
     ]
    },
    {
     "name": "stdout",
     "output_type": "stream",
     "text": [
      "Error in OCR orientation detection: (1, 'Estimating resolution as 723 Too few characters. Skipping this page Warning. Invalid resolution 0 dpi. Using 70 instead. Too few characters. Skipping this page Error during processing.')\n"
     ]
    },
    {
     "name": "stderr",
     "output_type": "stream",
     "text": [
      "Processing documents:  99%|█████████▊| 5162/5229 [3:06:42<04:06,  3.68s/it]"
     ]
    },
    {
     "name": "stdout",
     "output_type": "stream",
     "text": [
      "Error in OCR orientation detection: (1, 'Estimating resolution as 861 Too few characters. Skipping this page Warning. Invalid resolution 0 dpi. Using 70 instead. Too few characters. Skipping this page Error during processing.')\n"
     ]
    },
    {
     "name": "stderr",
     "output_type": "stream",
     "text": [
      "Processing documents:  99%|█████████▉| 5164/5229 [3:06:46<03:37,  3.34s/it]"
     ]
    },
    {
     "name": "stdout",
     "output_type": "stream",
     "text": [
      "Error in OCR orientation detection: (1, 'Estimating resolution as 158 Too few characters. Skipping this page Warning. Invalid resolution 0 dpi. Using 70 instead. Too few characters. Skipping this page Error during processing.')\n"
     ]
    },
    {
     "name": "stderr",
     "output_type": "stream",
     "text": [
      "Processing documents: 100%|██████████| 5229/5229 [3:07:42<00:00,  2.15s/it]\n"
     ]
    },
    {
     "name": "stdout",
     "output_type": "stream",
     "text": [
      "\n",
      "Processing Summary:\n",
      "Total images processed: 36950\n",
      "\n",
      "Dimension Ranges:\n",
      "Width: 817 to 8000 pixels\n",
      "Height: 891 to 7221 pixels\n"
     ]
    }
   ],
   "source": [
    "# Here we convert the tif images to png images and get their dimension and orientation using pytesseract\n",
    "import os\n",
    "import json\n",
    "from PIL import Image\n",
    "from tqdm import tqdm\n",
    "import glob\n",
    "import pytesseract\n",
    "\n",
    "# Directory containing the downloaded TIFF images\n",
    "input_dir = \"downloaded_images\"\n",
    "output_dir = \"png_images\"\n",
    "\n",
    "# Create output directory if it doesn't exist\n",
    "os.makedirs(output_dir, exist_ok=True)\n",
    "\n",
    "# Load existing metadata if it exists\n",
    "metadata_path = \"image_metadata.json\"\n",
    "if os.path.exists(metadata_path):\n",
    "    with open(metadata_path, 'r') as f:\n",
    "        image_metadata = json.load(f)\n",
    "    # Create set of already processed documents\n",
    "    processed_docs = {img[\"doc_id\"] for img in image_metadata[\"images\"]}\n",
    "else:\n",
    "    image_metadata = {\"images\": []}\n",
    "    processed_docs = set()\n",
    "\n",
    "# Function to determine orientation based on dimensions\n",
    "def get_orientation_confidence(image):\n",
    "    \"\"\"\n",
    "    Get orientation and confidence score using pytesseract OSD (Orientation and Script Detection)\n",
    "    Returns:\n",
    "        tuple: (orientation_angle, confidence, detected_orientation)\n",
    "        orientation_angle: 0, 90, 180, or 270 degrees\n",
    "        confidence: confidence score from pytesseract\n",
    "    \"\"\"\n",
    "    try:\n",
    "        # Get OSD data from pytesseract\n",
    "        osd = pytesseract.image_to_osd(image, output_type=pytesseract.Output.DICT)\n",
    "\n",
    "        confidence = osd['orientation_conf']\n",
    "        rotation_angle = osd['rotate']\n",
    "            \n",
    "        return rotation_angle, confidence\n",
    "        \n",
    "    except Exception as e:\n",
    "        print(f\"Error in OCR orientation detection: {str(e)}\")\n",
    "        return 0, 0\n",
    "\n",
    "# Process all TIFF files in subdirectories\n",
    "for doc_dir in tqdm(glob.glob(os.path.join(input_dir, \"*\")), desc=\"Processing documents\"):\n",
    "    doc_id = os.path.basename(doc_dir)\n",
    "    \n",
    "    # Skip if document has already been processed\n",
    "    if doc_id in processed_docs:\n",
    "        continue\n",
    "        \n",
    "    # Create corresponding output directory\n",
    "    doc_output_dir = os.path.join(output_dir, doc_id)\n",
    "    os.makedirs(doc_output_dir, exist_ok=True)\n",
    "    \n",
    "    # Process each TIFF file in the document directory\n",
    "    for tiff_path in glob.glob(os.path.join(doc_dir, \"*.tif\")):\n",
    "        try:\n",
    "            # Get the page number from the filename\n",
    "            page_num = int(os.path.splitext(os.path.basename(tiff_path))[0].split('_page')[1])\n",
    "            \n",
    "            # Open and process the image\n",
    "            with Image.open(tiff_path) as img:\n",
    "                # Get image dimensions\n",
    "                width, height = img.size\n",
    "\n",
    "                # Convert to RGB for PNG\n",
    "                rgb_img = img.convert('RGB')\n",
    "                \n",
    "                # Determine orientation\n",
    "                angle, confidence = get_orientation_confidence(rgb_img)\n",
    "                \n",
    "                # Create PNG filename\n",
    "                png_filename = f\"{doc_id}_page{page_num}.png\"\n",
    "                png_path = os.path.join(doc_output_dir, png_filename)\n",
    "                \n",
    "                # Convert and save as PNG\n",
    "                img.convert('RGB').save(png_path, 'PNG')\n",
    "                \n",
    "                # Store metadata\n",
    "                image_metadata[\"images\"].append({\n",
    "                    \"doc_id\": doc_id,\n",
    "                    \"page\": doc_id+\"_page\"+str(page_num),\n",
    "                    \"page_number\": page_num,\n",
    "                    \"original_path\": tiff_path,\n",
    "                    \"png_path\": png_path,\n",
    "                    \"width\": width,\n",
    "                    \"height\": height,\n",
    "                    \"rotation_angle\": angle,\n",
    "                    \"orientation_confidence\": confidence,\n",
    "                    \"aspect_ratio\": round(width / height, 3)\n",
    "                })\n",
    "                \n",
    "        except Exception as e:\n",
    "            print(f\"Error processing {tiff_path}: {str(e)}\")\n",
    "\n",
    "# Sort images by doc_id and page_number\n",
    "image_metadata[\"images\"].sort(key=lambda x: (x[\"doc_id\"], x[\"page_number\"]))\n",
    "\n",
    "# Save metadata to JSON file\n",
    "metadata_path = \"image_metadata.json\"\n",
    "with open(metadata_path, 'w') as f:\n",
    "    json.dump(image_metadata, f, indent=2)\n",
    "\n",
    "# Print summary\n",
    "print(\"\\nProcessing Summary:\")\n",
    "print(f\"Total images processed: {len(image_metadata['images'])}\")\n",
    "\n",
    "# Print dimension ranges\n",
    "widths = [img[\"width\"] for img in image_metadata[\"images\"]]\n",
    "heights = [img[\"height\"] for img in image_metadata[\"images\"]]\n",
    "\n",
    "print(\"\\nDimension Ranges:\")\n",
    "print(f\"Width: {min(widths)} to {max(widths)} pixels\")\n",
    "print(f\"Height: {min(heights)} to {max(heights)} pixels\")"
   ]
  },
  {
   "cell_type": "code",
   "execution_count": 5,
   "metadata": {},
   "outputs": [],
   "source": [
    "# Here we use the image metadata along with the pii filtering data and Donut Model for image classification to weight each images\n",
    "import re\n",
    "from transformers import DonutProcessor, VisionEncoderDecoderModel\n",
    "import torch\n",
    "\n",
    "\n",
    "processor = DonutProcessor.from_pretrained(\"naver-clova-ix/donut-base-finetuned-rvlcdip\")\n",
    "model = VisionEncoderDecoderModel.from_pretrained(\"naver-clova-ix/donut-base-finetuned-rvlcdip\")\n",
    "\n",
    "device = \"mps\" if torch.backends.mps.is_available() else \"cpu\"\n",
    "model.to(device) \n",
    "\n",
    "task_prompt = \"<s_rvlcdip>\"\n",
    "decoder_input_ids = processor.tokenizer(task_prompt, add_special_tokens=False, return_tensors=\"pt\").input_ids"
   ]
  },
  {
   "cell_type": "code",
   "execution_count": 10,
   "metadata": {},
   "outputs": [],
   "source": [
    "def classify_document(image_path):\n",
    "    image = Image.open(image_path).convert(\"RGB\")\n",
    "    pixel_values = processor(image, return_tensors=\"pt\").pixel_values\n",
    "    outputs = model.generate(\n",
    "    pixel_values.to(device),\n",
    "    decoder_input_ids=decoder_input_ids.to(device),\n",
    "    max_length=model.decoder.config.max_position_embeddings,\n",
    "    pad_token_id=processor.tokenizer.pad_token_id,\n",
    "    eos_token_id=processor.tokenizer.eos_token_id,\n",
    "    use_cache=True,\n",
    "    bad_words_ids=[[processor.tokenizer.unk_token_id]],\n",
    "    return_dict_in_generate=True,\n",
    "    )\n",
    "    sequence = processor.batch_decode(outputs.sequences)[0]\n",
    "    sequence = sequence.replace(processor.tokenizer.eos_token, \"\").replace(processor.tokenizer.pad_token, \"\")\n",
    "    sequence = re.sub(r\"<.*?>\", \"\", sequence, count=1).strip()  # remove first task start token\n",
    "    return processor.token2json(sequence)\n",
    "\n",
    "\n",
    "def classify_document_cloud(image_path):\n",
    "    with open(image_path, \"rb\") as f:\n",
    "        response = requests.post(\"http://0.0.0.0:8000/predict\", files={\"file\": f})\n",
    "        res = response.json()\n",
    "        return res['prediction']['class']"
   ]
  },
  {
   "cell_type": "code",
   "execution_count": 13,
   "metadata": {},
   "outputs": [
    {
     "name": "stdout",
     "output_type": "stream",
     "text": [
      "Loading existing filtered metadata...\n",
      "Found 14956 already processed pages\n",
      "Need to process 6699 more pages\n",
      "Found 21655 pages with PII across 5253 documents\n",
      "Processing images...\n"
     ]
    },
    {
     "name": "stderr",
     "output_type": "stream",
     "text": [
      "100%|██████████| 36950/36950 [1:30:55<00:00,  6.77it/s]   \n"
     ]
    },
    {
     "name": "stdout",
     "output_type": "stream",
     "text": [
      "\n",
      "Processing Summary:\n",
      "Total documents with PII pages: 5253\n",
      "Total PII pages processed: 21088\n",
      "\n",
      "Document Type Distribution:\n",
      "scientific_report: 3400 pages (16.1%)\n",
      "questionnaire: 2376 pages (11.3%)\n",
      "budget: 2266 pages (10.7%)\n",
      "presentation: 1953 pages (9.3%)\n",
      "letter: 1910 pages (9.1%)\n",
      "news_article: 1489 pages (7.1%)\n",
      "form: 1459 pages (6.9%)\n",
      "email: 1320 pages (6.3%)\n",
      "memo: 1111 pages (5.3%)\n",
      "specification: 1097 pages (5.2%)\n",
      "scientific_publication: 862 pages (4.1%)\n",
      "handwritten: 561 pages (2.7%)\n",
      "advertisement: 480 pages (2.3%)\n",
      "resume: 418 pages (2.0%)\n",
      "invoice: 279 pages (1.3%)\n",
      "file_folder: 107 pages (0.5%)\n"
     ]
    }
   ],
   "source": [
    "allowed_document_types = [\"letter\", \"form\", \"email\", \"specification\", \"budget\", \"invoice\", \"presentation\", \"questionnaire\", \"resume\", \"memo\"]\n",
    "import shutil\n",
    "\n",
    "\n",
    "# Load PII filtering data and image metadata\n",
    "filtered_documents_json_path = \"/Volumes/MyDataDrive/thesis/code-2/src/fireworks/filtering/pii_filtering_data.json\"\n",
    "image_metadata_json_path = \"/Volumes/MyDataDrive/thesis/code-2/src/fireworks/image_assets/image_metadata.json\"\n",
    "filtered_output_dir = \"filtered_images\"  # New directory for PII-containing images\n",
    "\n",
    "# Create output directory\n",
    "os.makedirs(filtered_output_dir, exist_ok=True)\n",
    "\n",
    "# Load the required data files\n",
    "with open(filtered_documents_json_path, 'r') as f:\n",
    "    filtered_documents = json.load(f)\n",
    "\n",
    "with open(image_metadata_json_path, 'r') as f:\n",
    "    image_metadata = json.load(f)\n",
    "\n",
    "# Create a dictionary mapping document IDs to their PII pages with additional metadata\n",
    "pii_pages = {}\n",
    "for doc in filtered_documents['documents_with_pii']:\n",
    "    # Extract doc_id from the file path\n",
    "    doc_id = doc['file_path'].split('/')[-1].split('.')[0]\n",
    "    \n",
    "    # Store PII information for each page\n",
    "    if doc_id not in pii_pages:\n",
    "        pii_pages[doc_id] = {}\n",
    "    \n",
    "    # Process each page with PII\n",
    "    for page in doc['pages_with_pii']:\n",
    "        # Extract page number from page_id\n",
    "        page_id = page['page_id']\n",
    "        page_num = int(page_id.split('_page')[-1])\n",
    "        \n",
    "        # Store page metadata\n",
    "        pii_pages[doc_id][page_num] = {\n",
    "            'pii_types': page['pii_types'],\n",
    "            'main_topic': page.get('main_topic', ''),\n",
    "            'page_type': page.get('page_type', ''),\n",
    "            'confidence': page.get('confidence', 0.0)\n",
    "        }\n",
    "\n",
    "# Initialize or load metadata for filtered images\n",
    "filtered_metadata_path = \"filtered_images_metadata.json\"\n",
    "processed_pages = set()\n",
    "if os.path.exists(filtered_metadata_path):\n",
    "    print(\"Loading existing filtered metadata...\")\n",
    "    with open(filtered_metadata_path, 'r') as f:\n",
    "        filtered_metadata = json.load(f)\n",
    "    processed_pages = {(img[\"doc_id\"], img[\"page_number\"]) for img in filtered_metadata.get(\"images\", [])}\n",
    "    print(f\"Found {len(processed_pages)} already processed pages\")\n",
    "    total_pages = sum(len(pages) for pages in pii_pages.values())\n",
    "    remaining = total_pages - len(processed_pages)\n",
    "    print(f\"Need to process {remaining} more pages\")\n",
    "else:\n",
    "    filtered_metadata = {\n",
    "        \"images\": [],\n",
    "        \"pii_statistics\": {\n",
    "            \"total_documents\": len(pii_pages),\n",
    "            \"total_pages\": 0,\n",
    "            \"document_types\": {},\n",
    "            \"pii_types_distribution\": {}\n",
    "        }\n",
    "    }\n",
    "    print(f\"Need to process {sum(len(pages) for pages in pii_pages.values())} pages\")\n",
    "\n",
    "print(f\"Found {sum(len(pages) for pages in pii_pages.values())} pages with PII across {len(pii_pages)} documents\")\n",
    "\n",
    "# Process and copy only the pages that contain PII\n",
    "print(\"Processing images...\")\n",
    "for img_data in tqdm(image_metadata[\"images\"]):\n",
    "    doc_id = img_data[\"doc_id\"]\n",
    "    page_num = img_data[\"page_number\"]\n",
    "    \n",
    "    # Only process if this specific page has PII and hasn't been processed before\n",
    "    if doc_id in pii_pages and page_num in pii_pages[doc_id] and (doc_id, page_num) not in processed_pages:\n",
    "        # Create document directory in filtered output\n",
    "        doc_output_dir = os.path.join(filtered_output_dir, doc_id)\n",
    "        os.makedirs(doc_output_dir, exist_ok=True)\n",
    "        \n",
    "        # Copy the PNG file to filtered directory\n",
    "        src_path = img_data[\"png_path\"]\n",
    "        dst_filename = f\"{doc_id}_page{page_num}.png\"\n",
    "        dst_path = os.path.join(doc_output_dir, dst_filename)\n",
    "        \n",
    "        try:\n",
    "            shutil.copy2(src_path, dst_path)\n",
    "            \n",
    "            # Classify the document\n",
    "            doc_type = classify_document_cloud(dst_path)\n",
    "            \n",
    "            # Get PII metadata for this page\n",
    "            pii_metadata = pii_pages[doc_id][page_num]\n",
    "            \n",
    "            # Create new metadata entry\n",
    "            new_metadata = {\n",
    "                **img_data,  # Keep existing metadata\n",
    "                \"filtered_png_path\": dst_path,\n",
    "                \"document_type\": doc_type,\n",
    "                \"is_allowed_type\": doc_type.lower() in [t.lower() for t in allowed_document_types],\n",
    "                \"pii_types\": pii_metadata['pii_types'],\n",
    "                \"main_topic\": pii_metadata['main_topic'],\n",
    "                \"page_type\": pii_metadata['page_type'],\n",
    "                \"pii_confidence\": pii_metadata['confidence']\n",
    "            }\n",
    "            \n",
    "            filtered_metadata[\"images\"].append(new_metadata)\n",
    "            \n",
    "            # Update statistics\n",
    "            filtered_metadata[\"pii_statistics\"][\"total_pages\"] += 1\n",
    "            filtered_metadata[\"pii_statistics\"][\"document_types\"][doc_type] = \\\n",
    "                filtered_metadata[\"pii_statistics\"][\"document_types\"].get(doc_type, 0) + 1\n",
    "            \n",
    "            # Update PII type statistics\n",
    "            for pii_type in pii_metadata['pii_types']:\n",
    "                filtered_metadata[\"pii_statistics\"][\"pii_types_distribution\"][pii_type] = \\\n",
    "                    filtered_metadata[\"pii_statistics\"][\"pii_types_distribution\"].get(pii_type, 0) + 1\n",
    "            \n",
    "        except Exception as e:\n",
    "            print(f\"Error processing {src_path}: {str(e)}\")\n",
    "\n",
    "# Sort images by doc_id and page_number\n",
    "filtered_metadata[\"images\"].sort(key=lambda x: (x[\"doc_id\"], x[\"page_number\"]))\n",
    "\n",
    "# Save the new metadata\n",
    "with open(filtered_metadata_path, 'w') as f:\n",
    "    json.dump(filtered_metadata, f, indent=2)\n",
    "\n",
    "# Print summary statistics\n",
    "print(\"\\nProcessing Summary:\")\n",
    "print(f\"Total documents with PII pages: {len(pii_pages)}\")\n",
    "print(f\"Total PII pages processed: {filtered_metadata['pii_statistics']['total_pages']}\")\n",
    "\n",
    "print(\"\\nDocument Type Distribution:\")\n",
    "doc_types = filtered_metadata[\"pii_statistics\"][\"document_types\"]\n",
    "total_pages = filtered_metadata[\"pii_statistics\"][\"total_pages\"]\n",
    "for doc_type, count in sorted(doc_types.items(), key=lambda x: x[1], reverse=True):\n",
    "    print(f\"{doc_type}: {count} pages ({count/total_pages*100:.1f}%)\")\n"
   ]
  },
  {
   "cell_type": "code",
   "execution_count": 1,
   "metadata": {},
   "outputs": [
    {
     "name": "stdout",
     "output_type": "stream",
     "text": [
      "21088\n",
      "Total documents: 21088\n",
      "Pages with PII and allowed document types: 8763\n",
      "PII types distribution: {'person_name': 6082, 'location': 6277, 'phone': 2250, 'email': 490}\n",
      "PII type combinations:\n",
      "('person_name',): 2048 pages\n",
      "Document types: ['memo', 'email', 'resume', 'form', 'letter', 'invoice', 'budget']\n",
      "----------------------------------------------------------------------------------------------------\n",
      "('location', 'person_name', 'phone'): 1186 pages\n",
      "Document types: ['memo', 'invoice', 'form', 'letter', 'email', 'budget', 'resume']\n",
      "----------------------------------------------------------------------------------------------------\n",
      "('location', 'person_name'): 2195 pages\n",
      "Document types: ['memo', 'resume', 'letter', 'form', 'budget', 'invoice', 'email']\n",
      "----------------------------------------------------------------------------------------------------\n",
      "('location',): 2106 pages\n",
      "Document types: ['memo', 'budget', 'invoice', 'resume', 'form', 'letter', 'email']\n",
      "----------------------------------------------------------------------------------------------------\n",
      "('email', 'location', 'person_name', 'phone'): 259 pages\n",
      "Document types: ['email', 'letter', 'form', 'resume', 'invoice', 'budget', 'memo']\n",
      "----------------------------------------------------------------------------------------------------\n",
      "('person_name', 'phone'): 181 pages\n",
      "Document types: ['email', 'letter', 'memo', 'form', 'resume', 'budget', 'invoice']\n",
      "----------------------------------------------------------------------------------------------------\n",
      "('email', 'person_name'): 106 pages\n",
      "Document types: ['email', 'budget', 'letter', 'form']\n",
      "----------------------------------------------------------------------------------------------------\n",
      "('email', 'person_name', 'phone'): 60 pages\n",
      "Document types: ['email', 'letter', 'form', 'memo']\n",
      "----------------------------------------------------------------------------------------------------\n",
      "('phone',): 80 pages\n",
      "Document types: ['budget', 'form', 'email', 'invoice', 'memo', 'letter']\n",
      "----------------------------------------------------------------------------------------------------\n",
      "('location', 'phone'): 477 pages\n",
      "Document types: ['form', 'budget', 'invoice', 'email', 'letter', 'memo', 'resume']\n",
      "----------------------------------------------------------------------------------------------------\n",
      "('email', 'location', 'person_name'): 47 pages\n",
      "Document types: ['email', 'letter', 'resume', 'form']\n",
      "----------------------------------------------------------------------------------------------------\n",
      "('email', 'location', 'phone'): 5 pages\n",
      "Document types: ['form', 'budget', 'email', 'letter']\n",
      "----------------------------------------------------------------------------------------------------\n",
      "('email',): 9 pages\n",
      "Document types: ['email', 'form']\n",
      "----------------------------------------------------------------------------------------------------\n",
      "('email', 'location'): 2 pages\n",
      "Document types: ['email', 'memo']\n",
      "----------------------------------------------------------------------------------------------------\n",
      "('email', 'phone'): 2 pages\n",
      "Document types: ['email', 'form']\n",
      "----------------------------------------------------------------------------------------------------\n"
     ]
    }
   ],
   "source": [
    "# Here we get the stat on the filtered_images_metadata.json file\n",
    "import json\n",
    "\n",
    "with open('filtered_images_metadata.json', 'r') as f:\n",
    "    data = json.load(f)\n",
    "\n",
    "print(len(data['images']))\n",
    "\n",
    "# Now, we want to get the statistics of the filtered_images_metadata.json file\n",
    "\n",
    "# First, we want to get the total number of documents\n",
    "total_documents = len(data['images'])\n",
    "print(f\"Total documents: {total_documents}\")\n",
    "\n",
    "\n",
    "pages_with_pii_and_allowed_document_types = 0\n",
    "pii_types_distribution = {}\n",
    "pii_type_combinations = {}\n",
    "\n",
    "new_allowed_document_types = [\"letter\", \"form\", \"email\", \"budget\", \"invoice\", \"resume\", \"memo\"]\n",
    "allowed_combo = [\n",
    "    ('location', 'person_name', 'phone'),\n",
    "    ('email', 'location', 'person_name', 'phone'),\n",
    "    ('person_name', 'phone'),\n",
    "    ('email', 'person_name'),\n",
    "    ('location', 'phone'),\n",
    "    ('email', 'location', 'person_name'),\n",
    "    ('email', 'location', 'phone'),\n",
    "    ('email', 'person_name', 'phone'),\n",
    "    ('email',),\n",
    "    ('email', 'location'),\n",
    "    ('email', 'phone')\n",
    "]\n",
    "\n",
    "top_files = []\n",
    "\n",
    "for image in data['images']:\n",
    "    if image['document_type'].lower() in new_allowed_document_types:\n",
    "        pii_type_combination = tuple(sorted(image['pii_types']))\n",
    "        existing_combination = pii_type_combinations.get(pii_type_combination, None)\n",
    "        doc_type = image['document_type']\n",
    "        if existing_combination:\n",
    "            if doc_type not in existing_combination['document_types']: \n",
    "                existing_combination['document_types'].append(doc_type)\n",
    "        pii_type_combinations[pii_type_combination] = {\n",
    "            \"count\": existing_combination['count'] + 1 if existing_combination else 1,\n",
    "            \"document_types\": existing_combination['document_types'] if existing_combination else [doc_type]\n",
    "        }\n",
    "\n",
    "        if pii_type_combination in allowed_combo:\n",
    "            top_files.append(image)\n",
    "\n",
    "        pages_with_pii_and_allowed_document_types += 1\n",
    "        for pii_type in image['pii_types']:\n",
    "            pii_types_distribution[pii_type] = pii_types_distribution.get(pii_type, 0) + 1\n",
    "\n",
    "\n",
    "\n",
    "open(\"top_files.json\", \"w\").write(json.dumps(top_files, indent=4))\n",
    "\n",
    "\n",
    "print(f\"Pages with PII and allowed document types: {pages_with_pii_and_allowed_document_types}\")\n",
    "print(f\"PII types distribution: {pii_types_distribution}\")\n",
    "print(f\"PII type combinations:\")\n",
    "for combination, value in pii_type_combinations.items():\n",
    "    print(f\"{combination}: {value['count']} pages\")\n",
    "    print(f\"Document types: {value['document_types']}\")\n",
    "    print(\"-\" * 100)    "
   ]
  },
  {
   "cell_type": "code",
   "execution_count": 9,
   "metadata": {},
   "outputs": [
    {
     "name": "stdout",
     "output_type": "stream",
     "text": [
      "Pages with PII and allowed document types (with labels): 1958\n",
      "PII types distribution: {'person_name': 1529, 'location': 1635, 'phone': 1812, 'email': 418}\n",
      "PII type combinations:\n",
      "('location', 'person_name', 'phone'): 967 pages\n",
      "Document types: ['memo', 'invoice', 'form', 'letter', 'email', 'budget', 'resume']\n",
      "----------------------------------------------------------------------------------------------------\n",
      "('email', 'location', 'person_name', 'phone'): 209 pages\n",
      "Document types: ['email', 'letter', 'form', 'resume', 'invoice', 'memo', 'budget']\n",
      "----------------------------------------------------------------------------------------------------\n",
      "('person_name', 'phone'): 161 pages\n",
      "Document types: ['email', 'letter', 'memo', 'form', 'resume', 'budget', 'invoice']\n",
      "----------------------------------------------------------------------------------------------------\n",
      "('email', 'person_name'): 95 pages\n",
      "Document types: ['email', 'letter', 'form']\n",
      "----------------------------------------------------------------------------------------------------\n",
      "('email', 'person_name', 'phone'): 56 pages\n",
      "Document types: ['email', 'letter', 'form', 'memo']\n",
      "----------------------------------------------------------------------------------------------------\n",
      "('location', 'phone'): 412 pages\n",
      "Document types: ['form', 'invoice', 'email', 'letter', 'budget', 'memo', 'resume']\n",
      "----------------------------------------------------------------------------------------------------\n",
      "('email', 'location', 'person_name'): 41 pages\n",
      "Document types: ['email', 'letter', 'resume', 'form']\n",
      "----------------------------------------------------------------------------------------------------\n",
      "('email', 'location', 'phone'): 5 pages\n",
      "Document types: ['form', 'budget', 'email', 'letter']\n",
      "----------------------------------------------------------------------------------------------------\n",
      "('email',): 9 pages\n",
      "Document types: ['email', 'form']\n",
      "----------------------------------------------------------------------------------------------------\n",
      "('email', 'phone'): 2 pages\n",
      "Document types: ['email', 'form']\n",
      "----------------------------------------------------------------------------------------------------\n",
      "('email', 'location'): 1 pages\n",
      "Document types: ['memo']\n",
      "----------------------------------------------------------------------------------------------------\n"
     ]
    }
   ],
   "source": [
    "import json\n",
    "import os\n",
    "new_allowed_document_types = [\"letter\", \"form\", \"email\", \"budget\", \"invoice\", \"resume\", \"memo\"]\n",
    "pages_with_pii_and_allowed_document_types = 0\n",
    "pii_types_distribution = {}\n",
    "pii_type_combinations = {}\n",
    "allowed_combo = [\n",
    "    ('location', 'person_name', 'phone'),\n",
    "    ('email', 'location', 'person_name', 'phone'),\n",
    "    ('person_name', 'phone'),\n",
    "    ('email', 'person_name'),\n",
    "    ('location', 'phone'),\n",
    "    ('email', 'location', 'person_name'),\n",
    "    ('email', 'location', 'phone'),\n",
    "    ('email', 'person_name', 'phone'),\n",
    "    ('email',),\n",
    "    ('email', 'location'),\n",
    "    ('email', 'phone')\n",
    "]\n",
    "\n",
    "top_files = []\n",
    "\n",
    "\n",
    "with open(\"/Volumes/MyDataDrive/thesis/code-2/src/fireworks/image_assets/top_files-train-v1.json\", \"r\") as f:\n",
    "    data = json.load(f)\n",
    "\n",
    "train_data_labels_dir = \"/Volumes/MyDataDrive/thesis/code-2/new-data/IIT-CDIP/train/labels/\"\n",
    "\n",
    "# Get list of existing label files for faster lookup\n",
    "existing_label_files = set(os.listdir(train_data_labels_dir))\n",
    "\n",
    "for image in data:\n",
    "    # Check if corresponding label file exists\n",
    "    label_filename = f\"votes_{image['doc_id']}_page{image['page_number']}.json\"\n",
    "    \n",
    "    # Only process if label file exists\n",
    "    if label_filename in existing_label_files and image['document_type'].lower() in new_allowed_document_types:\n",
    "        pii_type_combination = tuple(sorted(image['pii_types']))\n",
    "        existing_combination = pii_type_combinations.get(pii_type_combination, None)\n",
    "        doc_type = image['document_type']\n",
    "        if existing_combination:\n",
    "            if doc_type not in existing_combination['document_types']: \n",
    "                existing_combination['document_types'].append(doc_type)\n",
    "        pii_type_combinations[pii_type_combination] = {\n",
    "            \"count\": existing_combination['count'] + 1 if existing_combination else 1,\n",
    "            \"document_types\": existing_combination['document_types'] if existing_combination else [doc_type]\n",
    "        }\n",
    "\n",
    "        if pii_type_combination in allowed_combo:\n",
    "            top_files.append(image)\n",
    "\n",
    "        pages_with_pii_and_allowed_document_types += 1\n",
    "        for pii_type in image['pii_types']:\n",
    "            pii_types_distribution[pii_type] = pii_types_distribution.get(pii_type, 0) + 1\n",
    "\n",
    "\n",
    "print(f\"Pages with PII and allowed document types (with labels): {pages_with_pii_and_allowed_document_types}\")\n",
    "print(f\"PII types distribution: {pii_types_distribution}\")\n",
    "print(f\"PII type combinations:\")\n",
    "for combination, value in pii_type_combinations.items():\n",
    "    print(f\"{combination}: {value['count']} pages\")\n",
    "    print(f\"Document types: {value['document_types']}\")\n",
    "    print(\"-\" * 100)"
   ]
  },
  {
   "cell_type": "code",
   "execution_count": 31,
   "metadata": {},
   "outputs": [
    {
     "name": "stdout",
     "output_type": "stream",
     "text": [
      "/Volumes/MyDataDrive/thesis/code-2/src/fireworks/image_assets/png_images/ffbl0235/ffbl0235_page1.png email Internal Email Correspondence Main Topic: Corporate internal communications strategy\n",
      "/Volumes/MyDataDrive/thesis/code-2/src/fireworks/image_assets/png_images/ffcd0004/ffcd0004_page1.png email Email Message Main Topic: Business Communication\n",
      "/Volumes/MyDataDrive/thesis/code-2/src/fireworks/image_assets/png_images/fffh0251/fffh0251_page1.png email Email Communication Main Topic: Expense Report Notification\n",
      "/Volumes/MyDataDrive/thesis/code-2/src/fireworks/image_assets/png_images/ffgm0238/ffgm0238_page1.png email Email Communication Main Topic: Corporate document destruction and internal communication\n",
      "/Volumes/MyDataDrive/thesis/code-2/src/fireworks/image_assets/png_images/ffjm0236/ffjm0236_page1.png email Email Correspondence - Packaging Design Discussion Main Topic: Medication Packaging Design and Dimensions\n",
      "/Volumes/MyDataDrive/thesis/code-2/src/fireworks/image_assets/png_images/ffkg0186/ffkg0186_page1.png email Marketing Project Update Email Main Topic: Business communication regarding a marketing project update\n",
      "/Volumes/MyDataDrive/thesis/code-2/src/fireworks/image_assets/png_images/ffkm0246/ffkm0246_page1.png email Email Communication Main Topic: Business communication regarding project/financial calculations\n",
      "/Volumes/MyDataDrive/thesis/code-2/src/fireworks/image_assets/png_images/ffkv0150/ffkv0150_page1.png email Research Study Communication Main Topic: Scientific Research Study Documentation\n",
      "/Volumes/MyDataDrive/thesis/code-2/src/fireworks/image_assets/png_images/fflb0254/fflb0254_page1.png email Email Communication Main Topic: Government document expiration notice\n",
      "/Volumes/MyDataDrive/thesis/code-2/src/fireworks/image_assets/png_images/ffly0235/ffly0235_page1.png email Business Document Main Topic: Business Planning and Operational Discrepancies\n",
      "/Volumes/MyDataDrive/thesis/code-2/src/fireworks/image_assets/png_images/ffmv0238/ffmv0238_page1.png email Scientific Research Newsletter Main Topic: Medical research on opioid overdose vaccination\n",
      "/Volumes/MyDataDrive/thesis/code-2/src/fireworks/image_assets/png_images/ffng0236/ffng0236_page1.png email Email Communication Main Topic: Corporate communication regarding opioid safety webinar\n",
      "/Volumes/MyDataDrive/thesis/code-2/src/fireworks/image_assets/png_images/ffpy0247/ffpy0247_page1.png email Email Message with Attachment Main Topic: Business Email Communication Regarding Logistics Report\n",
      "/Volumes/MyDataDrive/thesis/code-2/src/fireworks/image_assets/png_images/ffxm0247/ffxm0247_page1.png email Business Email Main Topic: Sales Reporting and Business Communication\n",
      "/Volumes/MyDataDrive/thesis/code-2/src/fireworks/image_assets/png_images/ffxw0076/ffxw0076_page1.png email Email Communication Main Topic: Nonprofit organization board meeting coordination and strategic planning\n",
      "/Volumes/MyDataDrive/thesis/code-2/src/fireworks/image_assets/png_images/ffym0228/ffym0228_page1.png email Email Communication with Document Attachment Main Topic: Document review and communication regarding cigarette smoke condensate collection records\n",
      "/Volumes/MyDataDrive/thesis/code-2/src/fireworks/image_assets/png_images/fgcn0238/fgcn0238_page1.png email Regulatory Submission Response Main Topic: Pharmaceutical regulatory compliance and FDA correspondence\n",
      "/Volumes/MyDataDrive/thesis/code-2/src/fireworks/image_assets/png_images/fgfl0018/fgfl0018_page1.png email Email Correspondence Main Topic: Industry-FDA Regulatory Communication\n",
      "/Volumes/MyDataDrive/thesis/code-2/src/fireworks/image_assets/png_images/fggc0248/fggc0248_page1.png email Email Contact List Main Topic: Email communication with contact list\n",
      "/Volumes/MyDataDrive/thesis/code-2/src/fireworks/image_assets/png_images/fggg0255/fggg0255_page1.png email Email Communication Main Topic: Work task coordination and project management\n",
      "/Volumes/MyDataDrive/thesis/code-2/src/fireworks/image_assets/png_images/fggj0075/fggj0075_page1.png email Research Study Communication Main Topic: Scientific Research Study Update\n"
     ]
    }
   ],
   "source": [
    "count = 0\n",
    "import os\n",
    "script_dir = \"/Volumes/MyDataDrive/thesis/code-2/src/fireworks/image_assets/\"\n",
    "target_combination = ('email', 'person_name')\n",
    "for image in data['images']:\n",
    "    if image['document_type'].lower() in new_allowed_document_types:\n",
    "        pii_type_combination = tuple(sorted(image['pii_types']))\n",
    "        if pii_type_combination == target_combination:\n",
    "            # Convert absolute path to relative path\n",
    "            rel_path =  script_dir + image['png_path']\n",
    "            print(rel_path, image['document_type'], image['page_type'], \"Main Topic: \" + image['main_topic'])\n",
    "            count += 1\n",
    "\n",
    "            if count > 20:\n",
    "                break"
   ]
  }
 ],
 "metadata": {
  "kernelspec": {
   "display_name": ".venv",
   "language": "python",
   "name": "python3"
  },
  "language_info": {
   "codemirror_mode": {
    "name": "ipython",
    "version": 3
   },
   "file_extension": ".py",
   "mimetype": "text/x-python",
   "name": "python",
   "nbconvert_exporter": "python",
   "pygments_lexer": "ipython3",
   "version": "3.12.10"
  }
 },
 "nbformat": 4,
 "nbformat_minor": 2
}
